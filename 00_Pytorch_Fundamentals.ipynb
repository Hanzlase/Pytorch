{
  "nbformat": 4,
  "nbformat_minor": 0,
  "metadata": {
    "colab": {
      "provenance": [],
      "gpuType": "T4",
      "authorship_tag": "ABX9TyORjiVRjukc/v+QKDjUeLB6",
      "include_colab_link": true
    },
    "kernelspec": {
      "name": "python3",
      "display_name": "Python 3"
    },
    "language_info": {
      "name": "python"
    },
    "accelerator": "GPU"
  },
  "cells": [
    {
      "cell_type": "markdown",
      "metadata": {
        "id": "view-in-github",
        "colab_type": "text"
      },
      "source": [
        "<a href=\"https://colab.research.google.com/github/Hanzlase/Pytorch/blob/main/00_Pytorch_Fundamentals.ipynb\" target=\"_parent\"><img src=\"https://colab.research.google.com/assets/colab-badge.svg\" alt=\"Open In Colab\"/></a>"
      ]
    },
    {
      "cell_type": "code",
      "execution_count": 1,
      "metadata": {
        "id": "5cWC-9afOJU8",
        "colab": {
          "base_uri": "https://localhost:8080/"
        },
        "outputId": "81f5426a-79ed-4608-e53b-4077f27b0d23"
      },
      "outputs": [
        {
          "output_type": "stream",
          "name": "stdout",
          "text": [
            "Learning Pytorch\n"
          ]
        }
      ],
      "source": [
        "print(\"Learning Pytorch\")"
      ]
    },
    {
      "cell_type": "code",
      "source": [
        "import torch\n",
        "import pandas as pd\n",
        "import numpy as np\n",
        "import matplotlib.pyplot as plt\n",
        "print(torch.__version__)"
      ],
      "metadata": {
        "colab": {
          "base_uri": "https://localhost:8080/"
        },
        "id": "LHMWOKO4TJo0",
        "outputId": "f661943a-2688-44eb-8827-aafd73d80a03"
      },
      "execution_count": 2,
      "outputs": [
        {
          "output_type": "stream",
          "name": "stdout",
          "text": [
            "2.8.0+cu126\n"
          ]
        }
      ]
    },
    {
      "cell_type": "markdown",
      "source": [
        "#Introduction to Tensors\n",
        "\n",
        "#Creating Tensors"
      ],
      "metadata": {
        "id": "6dTHgG7OcThX"
      }
    },
    {
      "cell_type": "code",
      "source": [
        "#Scalar\n",
        "scalar=torch.tensor(7)\n",
        "scalar"
      ],
      "metadata": {
        "colab": {
          "base_uri": "https://localhost:8080/"
        },
        "id": "aaSC62AMcY_y",
        "outputId": "4906882b-bc5e-435f-e7b9-44f716d5360f"
      },
      "execution_count": 3,
      "outputs": [
        {
          "output_type": "execute_result",
          "data": {
            "text/plain": [
              "tensor(7)"
            ]
          },
          "metadata": {},
          "execution_count": 3
        }
      ]
    },
    {
      "cell_type": "code",
      "source": [
        "#Dimentions\n",
        "scalar.ndim\n"
      ],
      "metadata": {
        "colab": {
          "base_uri": "https://localhost:8080/"
        },
        "id": "iC2uecy-dYll",
        "outputId": "afb3d76a-e68e-4ece-f850-1dc9c430fa6c"
      },
      "execution_count": 4,
      "outputs": [
        {
          "output_type": "execute_result",
          "data": {
            "text/plain": [
              "0"
            ]
          },
          "metadata": {},
          "execution_count": 4
        }
      ]
    },
    {
      "cell_type": "code",
      "source": [
        "scalar.item()"
      ],
      "metadata": {
        "colab": {
          "base_uri": "https://localhost:8080/"
        },
        "id": "rtEfXvNAd6Yc",
        "outputId": "f9424c64-439a-4f43-9945-ab48186cb2ab"
      },
      "execution_count": 5,
      "outputs": [
        {
          "output_type": "execute_result",
          "data": {
            "text/plain": [
              "7"
            ]
          },
          "metadata": {},
          "execution_count": 5
        }
      ]
    },
    {
      "cell_type": "code",
      "source": [
        "#Vector\n",
        "vector=torch.tensor([7,7])\n",
        "vector"
      ],
      "metadata": {
        "colab": {
          "base_uri": "https://localhost:8080/"
        },
        "id": "4YP3Et-OeBB-",
        "outputId": "43b9ab87-4746-4838-88ce-87415fb16476"
      },
      "execution_count": 6,
      "outputs": [
        {
          "output_type": "execute_result",
          "data": {
            "text/plain": [
              "tensor([7, 7])"
            ]
          },
          "metadata": {},
          "execution_count": 6
        }
      ]
    },
    {
      "cell_type": "code",
      "source": [
        "vector.ndim"
      ],
      "metadata": {
        "colab": {
          "base_uri": "https://localhost:8080/"
        },
        "id": "SFpdu0AOeGpb",
        "outputId": "76d71fe9-7dfe-45fd-cdea-7bec00a7edf3"
      },
      "execution_count": 7,
      "outputs": [
        {
          "output_type": "execute_result",
          "data": {
            "text/plain": [
              "1"
            ]
          },
          "metadata": {},
          "execution_count": 7
        }
      ]
    },
    {
      "cell_type": "code",
      "source": [
        "vector.shape"
      ],
      "metadata": {
        "colab": {
          "base_uri": "https://localhost:8080/"
        },
        "id": "HacHf6eOeS0J",
        "outputId": "a9c9dadd-f6a6-4baf-b3bd-5fb539c8284f"
      },
      "execution_count": 8,
      "outputs": [
        {
          "output_type": "execute_result",
          "data": {
            "text/plain": [
              "torch.Size([2])"
            ]
          },
          "metadata": {},
          "execution_count": 8
        }
      ]
    },
    {
      "cell_type": "code",
      "source": [
        "#MATRIX\n",
        "MATRIX=torch.tensor([[7,8],\n",
        "                     [9,10]])\n",
        "MATRIX"
      ],
      "metadata": {
        "colab": {
          "base_uri": "https://localhost:8080/"
        },
        "id": "hl973PypeYQy",
        "outputId": "9962aeba-7d78-4005-fce5-3e9e9da6e3cd"
      },
      "execution_count": 9,
      "outputs": [
        {
          "output_type": "execute_result",
          "data": {
            "text/plain": [
              "tensor([[ 7,  8],\n",
              "        [ 9, 10]])"
            ]
          },
          "metadata": {},
          "execution_count": 9
        }
      ]
    },
    {
      "cell_type": "code",
      "source": [
        "MATRIX.ndim"
      ],
      "metadata": {
        "colab": {
          "base_uri": "https://localhost:8080/"
        },
        "id": "hfx0ItvoeuL7",
        "outputId": "99cf61a4-486a-4e3b-d308-74b9a911f1f8"
      },
      "execution_count": 10,
      "outputs": [
        {
          "output_type": "execute_result",
          "data": {
            "text/plain": [
              "2"
            ]
          },
          "metadata": {},
          "execution_count": 10
        }
      ]
    },
    {
      "cell_type": "code",
      "source": [
        "MATRIX[0]"
      ],
      "metadata": {
        "colab": {
          "base_uri": "https://localhost:8080/"
        },
        "id": "PZ8Hj-91ezu1",
        "outputId": "69ef0cf0-e97a-4cd8-e416-86ae48ad94c7"
      },
      "execution_count": 11,
      "outputs": [
        {
          "output_type": "execute_result",
          "data": {
            "text/plain": [
              "tensor([7, 8])"
            ]
          },
          "metadata": {},
          "execution_count": 11
        }
      ]
    },
    {
      "cell_type": "code",
      "source": [
        "MATRIX.shape"
      ],
      "metadata": {
        "colab": {
          "base_uri": "https://localhost:8080/"
        },
        "id": "AAY2JABbe36m",
        "outputId": "44989ad2-740e-40e2-a940-67ca968dbd6b"
      },
      "execution_count": 12,
      "outputs": [
        {
          "output_type": "execute_result",
          "data": {
            "text/plain": [
              "torch.Size([2, 2])"
            ]
          },
          "metadata": {},
          "execution_count": 12
        }
      ]
    },
    {
      "cell_type": "code",
      "source": [
        "#TENSOR\n",
        "TENSOR=torch.tensor([[[1,2,3],\n",
        "                      [3,5,6],\n",
        "                      [8,5,2]]])\n",
        "TENSOR"
      ],
      "metadata": {
        "colab": {
          "base_uri": "https://localhost:8080/"
        },
        "id": "d50ZifZfe68F",
        "outputId": "f97a4333-9a16-46c3-d68f-890921128048"
      },
      "execution_count": 13,
      "outputs": [
        {
          "output_type": "execute_result",
          "data": {
            "text/plain": [
              "tensor([[[1, 2, 3],\n",
              "         [3, 5, 6],\n",
              "         [8, 5, 2]]])"
            ]
          },
          "metadata": {},
          "execution_count": 13
        }
      ]
    },
    {
      "cell_type": "code",
      "source": [
        "TENSOR.ndim"
      ],
      "metadata": {
        "colab": {
          "base_uri": "https://localhost:8080/"
        },
        "id": "0GMiAGebfeGw",
        "outputId": "8b4e45f3-77ac-4767-e907-125df40c9b49"
      },
      "execution_count": 14,
      "outputs": [
        {
          "output_type": "execute_result",
          "data": {
            "text/plain": [
              "3"
            ]
          },
          "metadata": {},
          "execution_count": 14
        }
      ]
    },
    {
      "cell_type": "code",
      "source": [
        "TENSOR.shape"
      ],
      "metadata": {
        "colab": {
          "base_uri": "https://localhost:8080/"
        },
        "id": "vEN-DsK7fhAT",
        "outputId": "88494235-d569-48bf-aeda-1c2e9c7b4917"
      },
      "execution_count": 15,
      "outputs": [
        {
          "output_type": "execute_result",
          "data": {
            "text/plain": [
              "torch.Size([1, 3, 3])"
            ]
          },
          "metadata": {},
          "execution_count": 15
        }
      ]
    },
    {
      "cell_type": "code",
      "source": [
        "TENSOR[0]"
      ],
      "metadata": {
        "colab": {
          "base_uri": "https://localhost:8080/"
        },
        "id": "JP9WOL97fpIu",
        "outputId": "5716f01c-39b0-484c-d9c8-573573f6b941"
      },
      "execution_count": 16,
      "outputs": [
        {
          "output_type": "execute_result",
          "data": {
            "text/plain": [
              "tensor([[1, 2, 3],\n",
              "        [3, 5, 6],\n",
              "        [8, 5, 2]])"
            ]
          },
          "metadata": {},
          "execution_count": 16
        }
      ]
    },
    {
      "cell_type": "markdown",
      "source": [
        "The output torch.Size([1, 3, 3]) for the tensor [[[1, 2, 3], [3, 5, 6], [8, 5, 2]]] might seem a little counter-intuitive at first.\n",
        "\n",
        "Here's how to break it down:\n",
        "\n",
        "The first dimension (size 1) represents the outermost set of square brackets [[...]]. There's only one of these main groups in your tensor.\n",
        "The second dimension (size 3) represents the number of lists within that outermost group. In your tensor, you have three inner lists: [1, 2, 3], [3, 5, 6], and [8, 5, 2].\n",
        "The third dimension (size 3) represents the number of elements within each of those inner lists. Each of your inner lists has three numbers.\n",
        "So, torch.Size([1, 3, 3]) means you have 1 block of data, and within that block, you have a 3x3 structure. This is a 3-dimensional tensor."
      ],
      "metadata": {
        "id": "vyHc_9G5gtAW"
      }
    },
    {
      "cell_type": "markdown",
      "source": [
        "###Random Tensors\n",
        "why Random tesnors?\n",
        "We use random tensors in PyTorch mostly to give our machine learning models a random starting point. Think of it like shuffling a deck of cards before a game it makes sure things aren't predictable from the start and helps the model learn better. They're also handy for making fake data when we just want to test things out.\n",
        "\n",
        "\n",
        "\"Start with Random numbers -> look at data -> update random numbers -> look at data -> update random numbers.\""
      ],
      "metadata": {
        "id": "gFPS2_jChdCR"
      }
    },
    {
      "cell_type": "code",
      "source": [
        "#Create a Random tensor of shape(3,4)\n",
        "random_tensor=torch.rand(3,4)\n",
        "random_tensor"
      ],
      "metadata": {
        "colab": {
          "base_uri": "https://localhost:8080/"
        },
        "id": "10aRV-6YhhKZ",
        "outputId": "8ce091c5-265c-44f1-a80f-b0d1e7d17dba"
      },
      "execution_count": 17,
      "outputs": [
        {
          "output_type": "execute_result",
          "data": {
            "text/plain": [
              "tensor([[0.3916, 0.9784, 0.4432, 0.4805],\n",
              "        [0.9302, 0.5873, 0.1925, 0.9916],\n",
              "        [0.4903, 0.5182, 0.2656, 0.8793]])"
            ]
          },
          "metadata": {},
          "execution_count": 17
        }
      ]
    },
    {
      "cell_type": "code",
      "source": [
        "random_tensor.ndim\n"
      ],
      "metadata": {
        "colab": {
          "base_uri": "https://localhost:8080/"
        },
        "id": "C2mmuqQBi1HQ",
        "outputId": "e89f8123-f8a4-45ca-93a6-4b9d6602caa8"
      },
      "execution_count": 18,
      "outputs": [
        {
          "output_type": "execute_result",
          "data": {
            "text/plain": [
              "2"
            ]
          },
          "metadata": {},
          "execution_count": 18
        }
      ]
    },
    {
      "cell_type": "code",
      "source": [
        "random_tensor.shape"
      ],
      "metadata": {
        "colab": {
          "base_uri": "https://localhost:8080/"
        },
        "id": "7oIXOIrHi2J9",
        "outputId": "2ad5cd5f-bd32-4a12-f938-166125f4d767"
      },
      "execution_count": 19,
      "outputs": [
        {
          "output_type": "execute_result",
          "data": {
            "text/plain": [
              "torch.Size([3, 4])"
            ]
          },
          "metadata": {},
          "execution_count": 19
        }
      ]
    },
    {
      "cell_type": "code",
      "source": [],
      "metadata": {
        "id": "QHJr4AhljIp3"
      },
      "execution_count": 19,
      "outputs": []
    },
    {
      "cell_type": "code",
      "source": [
        "#Create a Random tensor with similar shape to an image tensor\n",
        "rand_img_size_tensor=torch.rand(size=(224,224,3))\n",
        "rand_img_size_tensor.shape,rand_img_size_tensor.ndim\n"
      ],
      "metadata": {
        "colab": {
          "base_uri": "https://localhost:8080/"
        },
        "id": "ZvsgfkdYjMjF",
        "outputId": "661bb28a-2123-491d-d896-795347397ee9"
      },
      "execution_count": 20,
      "outputs": [
        {
          "output_type": "execute_result",
          "data": {
            "text/plain": [
              "(torch.Size([224, 224, 3]), 3)"
            ]
          },
          "metadata": {},
          "execution_count": 20
        }
      ]
    },
    {
      "cell_type": "markdown",
      "source": [
        "#Zeros and Ones"
      ],
      "metadata": {
        "id": "XqF8pfJWkawk"
      }
    },
    {
      "cell_type": "code",
      "source": [
        "#Create a tensor of all zeros\n",
        "zeros=torch.zeros(3,4)\n",
        "zeros"
      ],
      "metadata": {
        "colab": {
          "base_uri": "https://localhost:8080/"
        },
        "id": "ggg3gsP1kcWj",
        "outputId": "6e894cc7-d1c1-4845-f154-7b830443b558"
      },
      "execution_count": 21,
      "outputs": [
        {
          "output_type": "execute_result",
          "data": {
            "text/plain": [
              "tensor([[0., 0., 0., 0.],\n",
              "        [0., 0., 0., 0.],\n",
              "        [0., 0., 0., 0.]])"
            ]
          },
          "metadata": {},
          "execution_count": 21
        }
      ]
    },
    {
      "cell_type": "code",
      "source": [
        "#Create a tensor of all ones\n",
        "ones=torch.ones(3,4)\n",
        "ones"
      ],
      "metadata": {
        "colab": {
          "base_uri": "https://localhost:8080/"
        },
        "id": "KvaDeUo6kpA2",
        "outputId": "5fd8e6f5-9593-42bc-96b0-a369fda52bd7"
      },
      "execution_count": 22,
      "outputs": [
        {
          "output_type": "execute_result",
          "data": {
            "text/plain": [
              "tensor([[1., 1., 1., 1.],\n",
              "        [1., 1., 1., 1.],\n",
              "        [1., 1., 1., 1.]])"
            ]
          },
          "metadata": {},
          "execution_count": 22
        }
      ]
    },
    {
      "cell_type": "code",
      "source": [
        "ones.dtype"
      ],
      "metadata": {
        "colab": {
          "base_uri": "https://localhost:8080/"
        },
        "id": "DxEHLIqKkxA2",
        "outputId": "e8f01738-bc99-4914-f8d8-21a4792aad9e"
      },
      "execution_count": 23,
      "outputs": [
        {
          "output_type": "execute_result",
          "data": {
            "text/plain": [
              "torch.float32"
            ]
          },
          "metadata": {},
          "execution_count": 23
        }
      ]
    },
    {
      "cell_type": "code",
      "source": [
        "random_tensor.dtype"
      ],
      "metadata": {
        "colab": {
          "base_uri": "https://localhost:8080/"
        },
        "id": "Hinb062LkyzS",
        "outputId": "16585da5-6f95-43e3-f23a-e9e2f886153e"
      },
      "execution_count": 24,
      "outputs": [
        {
          "output_type": "execute_result",
          "data": {
            "text/plain": [
              "torch.float32"
            ]
          },
          "metadata": {},
          "execution_count": 24
        }
      ]
    },
    {
      "cell_type": "markdown",
      "source": [
        "#Creating a range of tensors and tensors-like\n",
        "\n"
      ],
      "metadata": {
        "id": "XlXp4BfBlGwD"
      }
    },
    {
      "cell_type": "code",
      "source": [
        "#Use torch.range()\n",
        "one_to_ten=torch.arange(start=0,end=11,step=2) # OR one_to_ten=torch.arange(0,11)\n",
        "one_to_ten"
      ],
      "metadata": {
        "colab": {
          "base_uri": "https://localhost:8080/"
        },
        "id": "lKDPVOnVk3XI",
        "outputId": "d9a85dcc-eaf5-413f-8e5f-c0374fa8ae5e"
      },
      "execution_count": 25,
      "outputs": [
        {
          "output_type": "execute_result",
          "data": {
            "text/plain": [
              "tensor([ 0,  2,  4,  6,  8, 10])"
            ]
          },
          "metadata": {},
          "execution_count": 25
        }
      ]
    },
    {
      "cell_type": "code",
      "source": [
        "#creating tensors like\n",
        "ten_zeros=torch.zeros_like(input =one_to_ten)\n",
        "ten_zeros"
      ],
      "metadata": {
        "colab": {
          "base_uri": "https://localhost:8080/"
        },
        "id": "Wm1JyNDWlHh7",
        "outputId": "b5adac2b-bffd-4071-9a63-5a1c746a3214"
      },
      "execution_count": 26,
      "outputs": [
        {
          "output_type": "execute_result",
          "data": {
            "text/plain": [
              "tensor([0, 0, 0, 0, 0, 0])"
            ]
          },
          "metadata": {},
          "execution_count": 26
        }
      ]
    },
    {
      "cell_type": "markdown",
      "source": [
        "#Tensor Datatype"
      ],
      "metadata": {
        "id": "C0x1s1jDmro8"
      }
    },
    {
      "cell_type": "code",
      "source": [
        "float_32_tensor=torch.tensor([3.0,6.0,9.0],\n",
        "                             dtype=None,#automatically sets it to float32\n",
        "                             device=None,#will be created on CPU\n",
        "                             requires_grad=False) #Don't bother keeping track of the steps needed to calculate gradients for this specific tensor.\n",
        "float_32_tensor"
      ],
      "metadata": {
        "colab": {
          "base_uri": "https://localhost:8080/"
        },
        "id": "09xhMYf-mvSS",
        "outputId": "5dee23ca-d847-43fc-b490-4c94fdb5ff4a"
      },
      "execution_count": 27,
      "outputs": [
        {
          "output_type": "execute_result",
          "data": {
            "text/plain": [
              "tensor([3., 6., 9.])"
            ]
          },
          "metadata": {},
          "execution_count": 27
        }
      ]
    },
    {
      "cell_type": "code",
      "source": [
        "#convert to 16\n",
        "float_16_tensor=float_32_tensor.type(torch.float16)"
      ],
      "metadata": {
        "id": "0S1IOedrmNzn"
      },
      "execution_count": 28,
      "outputs": []
    },
    {
      "cell_type": "code",
      "source": [
        "float_16_tensor * float_32_tensor"
      ],
      "metadata": {
        "colab": {
          "base_uri": "https://localhost:8080/"
        },
        "id": "SNBNBFvCpXVw",
        "outputId": "074f5185-e7a6-4bd5-dc5d-665cbc4daeb5"
      },
      "execution_count": 29,
      "outputs": [
        {
          "output_type": "execute_result",
          "data": {
            "text/plain": [
              "tensor([ 9., 36., 81.])"
            ]
          },
          "metadata": {},
          "execution_count": 29
        }
      ]
    },
    {
      "cell_type": "code",
      "source": [
        "int_32_tensor=torch.tensor([3,6,9],dtype=torch.int32)\n",
        "int_32_tensor"
      ],
      "metadata": {
        "colab": {
          "base_uri": "https://localhost:8080/"
        },
        "id": "BaRAhZmEp9l9",
        "outputId": "fadba081-bbcb-4e11-91c6-6c18dde29da9"
      },
      "execution_count": 30,
      "outputs": [
        {
          "output_type": "execute_result",
          "data": {
            "text/plain": [
              "tensor([3, 6, 9], dtype=torch.int32)"
            ]
          },
          "metadata": {},
          "execution_count": 30
        }
      ]
    },
    {
      "cell_type": "code",
      "source": [
        "#we can multiply tensors with different datatypes\n",
        "int_32_tensor * float_32_tensor"
      ],
      "metadata": {
        "colab": {
          "base_uri": "https://localhost:8080/"
        },
        "id": "qtZRHARTqScM",
        "outputId": "8066b4a2-5a16-4ca6-867e-09c229a18138"
      },
      "execution_count": 31,
      "outputs": [
        {
          "output_type": "execute_result",
          "data": {
            "text/plain": [
              "tensor([ 9., 36., 81.])"
            ]
          },
          "metadata": {},
          "execution_count": 31
        }
      ]
    },
    {
      "cell_type": "code",
      "source": [
        "#create a tensor\n",
        "some_tensor=torch.rand(4,5)\n",
        "some_tensor"
      ],
      "metadata": {
        "colab": {
          "base_uri": "https://localhost:8080/"
        },
        "id": "vONoeHoSrCHI",
        "outputId": "60ea9570-8f6c-40cc-aa30-f4a9a72ebc4a"
      },
      "execution_count": 32,
      "outputs": [
        {
          "output_type": "execute_result",
          "data": {
            "text/plain": [
              "tensor([[0.5699, 0.1282, 0.7501, 0.4076, 0.6169],\n",
              "        [0.1667, 0.1193, 0.8272, 0.4467, 0.6887],\n",
              "        [0.6947, 0.0687, 0.1773, 0.3040, 0.8549],\n",
              "        [0.3816, 0.4699, 0.1869, 0.2281, 0.2847]])"
            ]
          },
          "metadata": {},
          "execution_count": 32
        }
      ]
    },
    {
      "cell_type": "code",
      "source": [
        "print(some_tensor)\n",
        "print(f\"Datatype of tensor: {some_tensor.dtype}\")\n",
        "print(f\"Shape of tensor: {some_tensor.shape}\")\n",
        "print(f\"Device tensor is on: {some_tensor.device}\")"
      ],
      "metadata": {
        "colab": {
          "base_uri": "https://localhost:8080/"
        },
        "id": "I4toPIOzrLsP",
        "outputId": "e264c57c-b345-48f0-f027-dec4db274ba4"
      },
      "execution_count": 33,
      "outputs": [
        {
          "output_type": "stream",
          "name": "stdout",
          "text": [
            "tensor([[0.5699, 0.1282, 0.7501, 0.4076, 0.6169],\n",
            "        [0.1667, 0.1193, 0.8272, 0.4467, 0.6887],\n",
            "        [0.6947, 0.0687, 0.1773, 0.3040, 0.8549],\n",
            "        [0.3816, 0.4699, 0.1869, 0.2281, 0.2847]])\n",
            "Datatype of tensor: torch.float32\n",
            "Shape of tensor: torch.Size([4, 5])\n",
            "Device tensor is on: cpu\n"
          ]
        }
      ]
    },
    {
      "cell_type": "markdown",
      "source": [
        "#Tensor Manipulation\n"
      ],
      "metadata": {
        "id": "71FHU1F-rrOU"
      }
    },
    {
      "cell_type": "code",
      "source": [
        "# Create a tensor\n",
        "my_tensor = torch.tensor([1, 2, 3, 4, 5])\n",
        "\n",
        "# Add 10 to the tensor\n",
        "tensor_plus_10 = my_tensor + 10\n",
        "\n",
        "print(f\"Original tensor: {my_tensor}\")\n",
        "print(f\"Tensor after adding 10: {tensor_plus_10}\")"
      ],
      "metadata": {
        "colab": {
          "base_uri": "https://localhost:8080/"
        },
        "id": "ti0TpqKmsThQ",
        "outputId": "3f981c3c-09cc-4849-ab78-89ccd69d2c69"
      },
      "execution_count": 34,
      "outputs": [
        {
          "output_type": "stream",
          "name": "stdout",
          "text": [
            "Original tensor: tensor([1, 2, 3, 4, 5])\n",
            "Tensor after adding 10: tensor([11, 12, 13, 14, 15])\n"
          ]
        }
      ]
    },
    {
      "cell_type": "code",
      "source": [
        "# Multiply the tensor by 10\n",
        "tensor_times_10 = my_tensor * 10\n",
        "\n",
        "print(f\"Original tensor: {my_tensor}\")\n",
        "print(f\"Tensor after multiplying by 10: {tensor_times_10}\")"
      ],
      "metadata": {
        "colab": {
          "base_uri": "https://localhost:8080/"
        },
        "id": "xizID38nsfdk",
        "outputId": "ce4c129e-7e95-4fb3-aba0-d2c1f91d76e1"
      },
      "execution_count": 35,
      "outputs": [
        {
          "output_type": "stream",
          "name": "stdout",
          "text": [
            "Original tensor: tensor([1, 2, 3, 4, 5])\n",
            "Tensor after multiplying by 10: tensor([10, 20, 30, 40, 50])\n"
          ]
        }
      ]
    },
    {
      "cell_type": "code",
      "source": [
        "# Subtract 10 from the tensor\n",
        "tensor_minus_10 = my_tensor - 10\n",
        "\n",
        "print(f\"Original tensor: {my_tensor}\")\n",
        "print(f\"Tensor after subtracting 10: {tensor_minus_10}\")"
      ],
      "metadata": {
        "colab": {
          "base_uri": "https://localhost:8080/"
        },
        "id": "bgKnSzH6so8C",
        "outputId": "a91b8e69-8926-4545-a4ff-7fdf073087c2"
      },
      "execution_count": 36,
      "outputs": [
        {
          "output_type": "stream",
          "name": "stdout",
          "text": [
            "Original tensor: tensor([1, 2, 3, 4, 5])\n",
            "Tensor after subtracting 10: tensor([-9, -8, -7, -6, -5])\n"
          ]
        }
      ]
    },
    {
      "cell_type": "code",
      "source": [
        "# Create a tensor\n",
        "tensor_a = torch.tensor([1, 2, 3, 4, 5])\n",
        "tensor_b = torch.tensor([6, 7, 8, 9, 10])\n",
        "\n",
        "# Element-wise addition using torch.add()\n",
        "addition_result = torch.add(tensor_a, tensor_b)\n",
        "print(f\"Element-wise addition using torch.add(): {addition_result}\")\n",
        "\n",
        "# Element-wise multiplication using torch.mul()\n",
        "multiplication_result = torch.mul(tensor_a, tensor_b)\n",
        "print(f\"Element-wise multiplication using torch.mul(): {multiplication_result}\")\n",
        "\n",
        "# Element-wise subtraction using torch.sub()\n",
        "subtract_result = torch.sub(tensor_b, tensor_a)\n",
        "print(f\"Element-wise subtraction using torch.sub(): {subtract_result}\")\n",
        "\n",
        "# Element-wise division using torch.div()\n",
        "division_result = torch.div(tensor_b, tensor_a)\n",
        "print(f\"Element-wise division using torch.div(): {division_result}\")"
      ],
      "metadata": {
        "colab": {
          "base_uri": "https://localhost:8080/"
        },
        "id": "4Fdl0Oils6ZA",
        "outputId": "de686719-dc8e-46e1-e599-fb7a5118d2fa"
      },
      "execution_count": 37,
      "outputs": [
        {
          "output_type": "stream",
          "name": "stdout",
          "text": [
            "Element-wise addition using torch.add(): tensor([ 7,  9, 11, 13, 15])\n",
            "Element-wise multiplication using torch.mul(): tensor([ 6, 14, 24, 36, 50])\n",
            "Element-wise subtraction using torch.sub(): tensor([5, 5, 5, 5, 5])\n",
            "Element-wise division using torch.div(): tensor([6.0000, 3.5000, 2.6667, 2.2500, 2.0000])\n"
          ]
        }
      ]
    },
    {
      "cell_type": "code",
      "source": [
        "# Create two tensors for matrix multiplication\n",
        "tensor_matrix_a = torch.tensor([[1, 2],\n",
        "                                 [3, 4]])\n",
        "\n",
        "tensor_matrix_b = torch.tensor([[5, 6],\n",
        "                                 [7, 8]])\n",
        "\n",
        "# Perform matrix multiplication using torch.matmul()\n",
        "matrix_mult_result = torch.matmul(tensor_matrix_a, tensor_matrix_b)\n",
        "print(f\"Matrix A:\\n{tensor_matrix_a}\")\n",
        "print(f\"Matrix B:\\n{tensor_matrix_b}\")\n",
        "print(f\"Result of matrix multiplication:\\n{matrix_mult_result}\")\n",
        "\n",
        "# Alternatively, use the @ operator\n",
        "matrix_mult_result_alt = tensor_matrix_a @ tensor_matrix_b\n",
        "print(f\"\\nResult of matrix multiplication (using @ operator):\\n{matrix_mult_result_alt}\")"
      ],
      "metadata": {
        "colab": {
          "base_uri": "https://localhost:8080/"
        },
        "id": "0-7n0xbctMNI",
        "outputId": "987661ec-4eae-456a-ddd7-744914bc2b40"
      },
      "execution_count": 38,
      "outputs": [
        {
          "output_type": "stream",
          "name": "stdout",
          "text": [
            "Matrix A:\n",
            "tensor([[1, 2],\n",
            "        [3, 4]])\n",
            "Matrix B:\n",
            "tensor([[5, 6],\n",
            "        [7, 8]])\n",
            "Result of matrix multiplication:\n",
            "tensor([[19, 22],\n",
            "        [43, 50]])\n",
            "\n",
            "Result of matrix multiplication (using @ operator):\n",
            "tensor([[19, 22],\n",
            "        [43, 50]])\n"
          ]
        }
      ]
    },
    {
      "cell_type": "code",
      "source": [
        "%%time\n",
        "val=0\n",
        "for i in range(len(tensor_a)):\n",
        "  val+=tensor_a[i]*tensor_b[i]\n",
        "print(val)"
      ],
      "metadata": {
        "colab": {
          "base_uri": "https://localhost:8080/"
        },
        "id": "4MW6WYeot-5t",
        "outputId": "ff3f2f63-202b-4f1e-a9c8-9286671442c5"
      },
      "execution_count": 39,
      "outputs": [
        {
          "output_type": "stream",
          "name": "stdout",
          "text": [
            "tensor(130)\n",
            "CPU times: user 1.22 ms, sys: 0 ns, total: 1.22 ms\n",
            "Wall time: 3.72 ms\n"
          ]
        }
      ]
    },
    {
      "cell_type": "code",
      "source": [
        "#Far faster than For loop\n",
        "%%time\n",
        "torch.matmul(tensor_a,tensor_b)\n"
      ],
      "metadata": {
        "colab": {
          "base_uri": "https://localhost:8080/"
        },
        "id": "EmkCXJccueLa",
        "outputId": "3b6aa3ce-056a-4d67-e65c-287ed9522da6"
      },
      "execution_count": 40,
      "outputs": [
        {
          "output_type": "stream",
          "name": "stdout",
          "text": [
            "CPU times: user 354 µs, sys: 59 µs, total: 413 µs\n",
            "Wall time: 9.38 ms\n"
          ]
        },
        {
          "output_type": "execute_result",
          "data": {
            "text/plain": [
              "tensor(130)"
            ]
          },
          "metadata": {},
          "execution_count": 40
        }
      ]
    },
    {
      "cell_type": "code",
      "source": [
        "#Wont work because of dimenstion errors\n",
        "# torch.matmul(torch.rand(3,2),torch.rand(3,2))\n",
        "torch.matmul(torch.rand(3,2),torch.rand(2,3))\n",
        "#another way\n",
        "torch.rand(2,2)@torch.rand(2,2)"
      ],
      "metadata": {
        "id": "AGZEiOK3vKe6",
        "colab": {
          "base_uri": "https://localhost:8080/"
        },
        "outputId": "5fbeeab1-b852-4a34-ae92-066102e4cee5"
      },
      "execution_count": 41,
      "outputs": [
        {
          "output_type": "execute_result",
          "data": {
            "text/plain": [
              "tensor([[0.1048, 0.7943],\n",
              "        [0.1217, 0.3674]])"
            ]
          },
          "metadata": {},
          "execution_count": 41
        }
      ]
    },
    {
      "cell_type": "code",
      "source": [
        "A=torch.tensor([[1,2],\n",
        "               [3,4],\n",
        "               [5,6]])\n",
        "B=torch.tensor([[5,2],\n",
        "               [6,4],\n",
        "               [8,9]])\n",
        "#will hav error\n",
        "#torch.mm(A,B) #mm is same as Matmul\n",
        "torch.mm(A.T,B)"
      ],
      "metadata": {
        "colab": {
          "base_uri": "https://localhost:8080/"
        },
        "id": "l9m0YOYkueSu",
        "outputId": "dbda6e7a-e960-47e3-8b3f-ef49c9056f21"
      },
      "execution_count": 42,
      "outputs": [
        {
          "output_type": "execute_result",
          "data": {
            "text/plain": [
              "tensor([[63, 59],\n",
              "        [82, 74]])"
            ]
          },
          "metadata": {},
          "execution_count": 42
        }
      ]
    },
    {
      "cell_type": "markdown",
      "source": [
        "#Finding Min,Max,Mean,sum etc"
      ],
      "metadata": {
        "id": "sKbgDcCxw6Tx"
      }
    },
    {
      "cell_type": "code",
      "source": [
        "X=torch.tensor([4,5,7,6,4,2,6,8,9,5,4,444,4])\n",
        "X"
      ],
      "metadata": {
        "colab": {
          "base_uri": "https://localhost:8080/"
        },
        "id": "oh3GMCsevqb7",
        "outputId": "eac8e704-e240-44fe-a2e3-10058d45cceb"
      },
      "execution_count": 43,
      "outputs": [
        {
          "output_type": "execute_result",
          "data": {
            "text/plain": [
              "tensor([  4,   5,   7,   6,   4,   2,   6,   8,   9,   5,   4, 444,   4])"
            ]
          },
          "metadata": {},
          "execution_count": 43
        }
      ]
    },
    {
      "cell_type": "code",
      "source": [
        "X.min()"
      ],
      "metadata": {
        "colab": {
          "base_uri": "https://localhost:8080/"
        },
        "id": "WP7sCLmfwJYi",
        "outputId": "03b0ee55-a318-4e4e-a260-268814dd0f61"
      },
      "execution_count": 44,
      "outputs": [
        {
          "output_type": "execute_result",
          "data": {
            "text/plain": [
              "tensor(2)"
            ]
          },
          "metadata": {},
          "execution_count": 44
        }
      ]
    },
    {
      "cell_type": "code",
      "source": [
        "X.max() #torch.max(X)"
      ],
      "metadata": {
        "colab": {
          "base_uri": "https://localhost:8080/"
        },
        "id": "M-CB6wdsxav-",
        "outputId": "0a5c16de-2aed-427f-f43d-cd602ae4a3c4"
      },
      "execution_count": 45,
      "outputs": [
        {
          "output_type": "execute_result",
          "data": {
            "text/plain": [
              "tensor(444)"
            ]
          },
          "metadata": {},
          "execution_count": 45
        }
      ]
    },
    {
      "cell_type": "code",
      "source": [
        "#mean fucntion reuire tensor of float32\n",
        "X.type(torch.float32).mean()"
      ],
      "metadata": {
        "colab": {
          "base_uri": "https://localhost:8080/"
        },
        "id": "mbZcI0nCxksY",
        "outputId": "4cda78c3-463c-45c6-f750-080445054e29"
      },
      "execution_count": 46,
      "outputs": [
        {
          "output_type": "execute_result",
          "data": {
            "text/plain": [
              "tensor(39.0769)"
            ]
          },
          "metadata": {},
          "execution_count": 46
        }
      ]
    },
    {
      "cell_type": "code",
      "source": [
        "X.sum()"
      ],
      "metadata": {
        "colab": {
          "base_uri": "https://localhost:8080/"
        },
        "id": "OpjufhrezKYT",
        "outputId": "658c4911-dabf-4a90-a8f6-82fe6c4ed546"
      },
      "execution_count": 47,
      "outputs": [
        {
          "output_type": "execute_result",
          "data": {
            "text/plain": [
              "tensor(508)"
            ]
          },
          "metadata": {},
          "execution_count": 47
        }
      ]
    },
    {
      "cell_type": "markdown",
      "source": [
        "#Positoinal Min and Max"
      ],
      "metadata": {
        "id": "6R3zUO4zzmgl"
      }
    },
    {
      "cell_type": "code",
      "source": [
        "X.argmin()"
      ],
      "metadata": {
        "colab": {
          "base_uri": "https://localhost:8080/"
        },
        "id": "6Llkd7C_zSiM",
        "outputId": "d7f53f4f-b99c-48eb-b34a-50c106802b60"
      },
      "execution_count": 48,
      "outputs": [
        {
          "output_type": "execute_result",
          "data": {
            "text/plain": [
              "tensor(5)"
            ]
          },
          "metadata": {},
          "execution_count": 48
        }
      ]
    },
    {
      "cell_type": "code",
      "source": [
        "X.argmax()"
      ],
      "metadata": {
        "colab": {
          "base_uri": "https://localhost:8080/"
        },
        "id": "ZXHS0DfGzuSh",
        "outputId": "ef09e411-b77f-44cd-c7af-19ab3f3f1ed4"
      },
      "execution_count": 49,
      "outputs": [
        {
          "output_type": "execute_result",
          "data": {
            "text/plain": [
              "tensor(11)"
            ]
          },
          "metadata": {},
          "execution_count": 49
        }
      ]
    },
    {
      "cell_type": "code",
      "source": [
        "X"
      ],
      "metadata": {
        "colab": {
          "base_uri": "https://localhost:8080/"
        },
        "id": "94kj58VHzxXC",
        "outputId": "034ff3fb-6472-4a44-a39d-25a964754095"
      },
      "execution_count": 50,
      "outputs": [
        {
          "output_type": "execute_result",
          "data": {
            "text/plain": [
              "tensor([  4,   5,   7,   6,   4,   2,   6,   8,   9,   5,   4, 444,   4])"
            ]
          },
          "metadata": {},
          "execution_count": 50
        }
      ]
    },
    {
      "cell_type": "markdown",
      "source": [
        "#Reshapong,Stacking,Squeezing and Unsqueezing Tensors"
      ],
      "metadata": {
        "id": "myOL0_MJ05-h"
      }
    },
    {
      "cell_type": "code",
      "source": [
        "X=torch.arange(1.,11.)\n",
        "\n",
        "X,X.shape"
      ],
      "metadata": {
        "colab": {
          "base_uri": "https://localhost:8080/"
        },
        "id": "30T_6GJn0gho",
        "outputId": "c2d27d47-f890-46f1-96d3-a7c80d4ada0a"
      },
      "execution_count": 51,
      "outputs": [
        {
          "output_type": "execute_result",
          "data": {
            "text/plain": [
              "(tensor([ 1.,  2.,  3.,  4.,  5.,  6.,  7.,  8.,  9., 10.]), torch.Size([10]))"
            ]
          },
          "metadata": {},
          "execution_count": 51
        }
      ]
    },
    {
      "cell_type": "code",
      "source": [
        "#Add an extra dimension\n",
        "#cause error\n",
        "#X_reshaped=X.reshape(1,7)\n",
        "X_reshaped=X.reshape(2,5)\n",
        "#can also do\n",
        "#X_reshaped=X.reshape(1,10)\n",
        "#X_reshaped=X.reshape(10,1)\n",
        "X_reshaped,X_reshaped.shape"
      ],
      "metadata": {
        "colab": {
          "base_uri": "https://localhost:8080/"
        },
        "id": "f_1Jy1SP1K_v",
        "outputId": "22aa0e5a-bd6a-4061-c201-59c7e957a35a"
      },
      "execution_count": 52,
      "outputs": [
        {
          "output_type": "execute_result",
          "data": {
            "text/plain": [
              "(tensor([[ 1.,  2.,  3.,  4.,  5.],\n",
              "         [ 6.,  7.,  8.,  9., 10.]]),\n",
              " torch.Size([2, 5]))"
            ]
          },
          "metadata": {},
          "execution_count": 52
        }
      ]
    },
    {
      "cell_type": "code",
      "source": [
        "Z=X.view(1,10)\n",
        "Z,Z.shape"
      ],
      "metadata": {
        "colab": {
          "base_uri": "https://localhost:8080/"
        },
        "id": "awch28SG1eeU",
        "outputId": "b340902d-c971-49fc-a820-29835746270c"
      },
      "execution_count": 53,
      "outputs": [
        {
          "output_type": "execute_result",
          "data": {
            "text/plain": [
              "(tensor([[ 1.,  2.,  3.,  4.,  5.,  6.,  7.,  8.,  9., 10.]]),\n",
              " torch.Size([1, 10]))"
            ]
          },
          "metadata": {},
          "execution_count": 53
        }
      ]
    },
    {
      "cell_type": "code",
      "source": [
        "#changing Z will change X\n",
        "Z[:,0]=12\n",
        "Z,X"
      ],
      "metadata": {
        "colab": {
          "base_uri": "https://localhost:8080/"
        },
        "id": "JKR0fld42aVE",
        "outputId": "1aeda9f7-26ef-4500-eff0-2eec68a333c2"
      },
      "execution_count": 54,
      "outputs": [
        {
          "output_type": "execute_result",
          "data": {
            "text/plain": [
              "(tensor([[12.,  2.,  3.,  4.,  5.,  6.,  7.,  8.,  9., 10.]]),\n",
              " tensor([12.,  2.,  3.,  4.,  5.,  6.,  7.,  8.,  9., 10.]))"
            ]
          },
          "metadata": {},
          "execution_count": 54
        }
      ]
    },
    {
      "cell_type": "code",
      "source": [
        "X_stacked=torch.stack([X,X,X,X],dim=1)\n",
        "X_stacked1=torch.stack([X,X,X,X],dim=0)\n",
        "X_stacked,X_stacked1"
      ],
      "metadata": {
        "colab": {
          "base_uri": "https://localhost:8080/"
        },
        "id": "89_TXr752kPj",
        "outputId": "325ae337-22dc-40d7-cbfe-b43144f421a4"
      },
      "execution_count": 55,
      "outputs": [
        {
          "output_type": "execute_result",
          "data": {
            "text/plain": [
              "(tensor([[12., 12., 12., 12.],\n",
              "         [ 2.,  2.,  2.,  2.],\n",
              "         [ 3.,  3.,  3.,  3.],\n",
              "         [ 4.,  4.,  4.,  4.],\n",
              "         [ 5.,  5.,  5.,  5.],\n",
              "         [ 6.,  6.,  6.,  6.],\n",
              "         [ 7.,  7.,  7.,  7.],\n",
              "         [ 8.,  8.,  8.,  8.],\n",
              "         [ 9.,  9.,  9.,  9.],\n",
              "         [10., 10., 10., 10.]]),\n",
              " tensor([[12.,  2.,  3.,  4.,  5.,  6.,  7.,  8.,  9., 10.],\n",
              "         [12.,  2.,  3.,  4.,  5.,  6.,  7.,  8.,  9., 10.],\n",
              "         [12.,  2.,  3.,  4.,  5.,  6.,  7.,  8.,  9., 10.],\n",
              "         [12.,  2.,  3.,  4.,  5.,  6.,  7.,  8.,  9., 10.]]))"
            ]
          },
          "metadata": {},
          "execution_count": 55
        }
      ]
    },
    {
      "cell_type": "code",
      "source": [
        "X_squeezed=X_reshaped.squeeze()\n",
        "X_squeezed"
      ],
      "metadata": {
        "colab": {
          "base_uri": "https://localhost:8080/"
        },
        "id": "0HbFEaEM2m86",
        "outputId": "1861ccf0-fe54-4fbb-871d-e8989c8354d8"
      },
      "execution_count": 56,
      "outputs": [
        {
          "output_type": "execute_result",
          "data": {
            "text/plain": [
              "tensor([[12.,  2.,  3.,  4.,  5.],\n",
              "        [ 6.,  7.,  8.,  9., 10.]])"
            ]
          },
          "metadata": {},
          "execution_count": 56
        }
      ]
    },
    {
      "cell_type": "code",
      "source": [
        "X_unsqueezed=X_squeezed.unsqueeze(dim=0)\n",
        "X_unsqueezed,X_unsqueezed.shape"
      ],
      "metadata": {
        "colab": {
          "base_uri": "https://localhost:8080/"
        },
        "id": "xup7A9sy3UkU",
        "outputId": "a63c6f66-52e7-4cf5-89f2-b3f6c2cf4072"
      },
      "execution_count": 57,
      "outputs": [
        {
          "output_type": "execute_result",
          "data": {
            "text/plain": [
              "(tensor([[[12.,  2.,  3.,  4.,  5.],\n",
              "          [ 6.,  7.,  8.,  9., 10.]]]),\n",
              " torch.Size([1, 2, 5]))"
            ]
          },
          "metadata": {},
          "execution_count": 57
        }
      ]
    },
    {
      "cell_type": "code",
      "source": [
        "X_original=torch.rand(size=(224,224,3)) #height,width,color channel\n",
        "X_permuted=X_original.permute(2, 0, 1) # Permute dimensions to (color_channel, height, width)\n",
        "X_original.shape,X_permuted.shape"
      ],
      "metadata": {
        "colab": {
          "base_uri": "https://localhost:8080/"
        },
        "id": "I_XZoBii7bIW",
        "outputId": "e64c769e-c699-40b8-e3a0-9e3c2b57be00"
      },
      "execution_count": 58,
      "outputs": [
        {
          "output_type": "execute_result",
          "data": {
            "text/plain": [
              "(torch.Size([224, 224, 3]), torch.Size([3, 224, 224]))"
            ]
          },
          "metadata": {},
          "execution_count": 58
        }
      ]
    },
    {
      "cell_type": "markdown",
      "source": [
        "#Indexing(Selecting data from tensors)"
      ],
      "metadata": {
        "id": "P0uJx2kv-r0v"
      }
    },
    {
      "cell_type": "code",
      "source": [
        "X=torch.arange(1,10).reshape(1,3,3)\n",
        "X"
      ],
      "metadata": {
        "colab": {
          "base_uri": "https://localhost:8080/"
        },
        "id": "kpH87zMR7zZ3",
        "outputId": "e265865c-0c5c-4ab6-881b-1cce24612205"
      },
      "execution_count": 59,
      "outputs": [
        {
          "output_type": "execute_result",
          "data": {
            "text/plain": [
              "tensor([[[1, 2, 3],\n",
              "         [4, 5, 6],\n",
              "         [7, 8, 9]]])"
            ]
          },
          "metadata": {},
          "execution_count": 59
        }
      ]
    },
    {
      "cell_type": "code",
      "source": [
        "X[0]"
      ],
      "metadata": {
        "id": "SAeGl9TK-9XD",
        "outputId": "228901e1-28eb-4e3e-91f1-95be30957f72",
        "colab": {
          "base_uri": "https://localhost:8080/"
        }
      },
      "execution_count": 60,
      "outputs": [
        {
          "output_type": "execute_result",
          "data": {
            "text/plain": [
              "tensor([[1, 2, 3],\n",
              "        [4, 5, 6],\n",
              "        [7, 8, 9]])"
            ]
          },
          "metadata": {},
          "execution_count": 60
        }
      ]
    },
    {
      "cell_type": "code",
      "source": [
        "X[0][0]"
      ],
      "metadata": {
        "id": "XexHuZst_IvU",
        "outputId": "dfe89570-333c-4682-e613-f2824cb6d8f9",
        "colab": {
          "base_uri": "https://localhost:8080/"
        }
      },
      "execution_count": 61,
      "outputs": [
        {
          "output_type": "execute_result",
          "data": {
            "text/plain": [
              "tensor([1, 2, 3])"
            ]
          },
          "metadata": {},
          "execution_count": 61
        }
      ]
    },
    {
      "cell_type": "code",
      "source": [
        "X[0][0][0]"
      ],
      "metadata": {
        "id": "mowmw7Zg_SBo",
        "outputId": "1db1f8c8-5b67-4df5-8bcc-411b93b0c89a",
        "colab": {
          "base_uri": "https://localhost:8080/"
        }
      },
      "execution_count": 62,
      "outputs": [
        {
          "output_type": "execute_result",
          "data": {
            "text/plain": [
              "tensor(1)"
            ]
          },
          "metadata": {},
          "execution_count": 62
        }
      ]
    },
    {
      "cell_type": "code",
      "source": [
        "X[0][2][2]"
      ],
      "metadata": {
        "id": "66F8rN8X_bfp",
        "outputId": "9e703214-376f-4a1d-ff4f-7a3cb8713ea3",
        "colab": {
          "base_uri": "https://localhost:8080/"
        }
      },
      "execution_count": 63,
      "outputs": [
        {
          "output_type": "execute_result",
          "data": {
            "text/plain": [
              "tensor(9)"
            ]
          },
          "metadata": {},
          "execution_count": 63
        }
      ]
    },
    {
      "cell_type": "markdown",
      "source": [
        "#Pytorch Tensors and Numpy"
      ],
      "metadata": {
        "id": "Jg_beEJwDEUT"
      }
    },
    {
      "cell_type": "code",
      "source": [
        "import numpy as np\n",
        "array=np.arange(1.0,8.0)\n",
        "tensor=torch.from_numpy(array) #when converting from numpy to torch the dtype is float64\n",
        "array,tensor"
      ],
      "metadata": {
        "id": "qo0yn47G_tMN",
        "colab": {
          "base_uri": "https://localhost:8080/"
        },
        "outputId": "9412001d-d0b1-429e-e6f7-253ff41b9f5d"
      },
      "execution_count": 64,
      "outputs": [
        {
          "output_type": "execute_result",
          "data": {
            "text/plain": [
              "(array([1., 2., 3., 4., 5., 6., 7.]),\n",
              " tensor([1., 2., 3., 4., 5., 6., 7.], dtype=torch.float64))"
            ]
          },
          "metadata": {},
          "execution_count": 64
        }
      ]
    },
    {
      "cell_type": "code",
      "source": [
        "array=array+1\n",
        "array,tensor #changing array wont change tensor"
      ],
      "metadata": {
        "colab": {
          "base_uri": "https://localhost:8080/"
        },
        "id": "7iLq3s-5FUWk",
        "outputId": "df81f72d-5194-4158-f78e-86ffdb26e84e"
      },
      "execution_count": 65,
      "outputs": [
        {
          "output_type": "execute_result",
          "data": {
            "text/plain": [
              "(array([2., 3., 4., 5., 6., 7., 8.]),\n",
              " tensor([1., 2., 3., 4., 5., 6., 7.], dtype=torch.float64))"
            ]
          },
          "metadata": {},
          "execution_count": 65
        }
      ]
    },
    {
      "cell_type": "code",
      "source": [
        "#Tensor to numpy\n",
        "tensor=torch.ones(7)\n",
        "numpy_tensor=tensor.numpy()\n",
        "tensor,numpy_tensor"
      ],
      "metadata": {
        "colab": {
          "base_uri": "https://localhost:8080/"
        },
        "id": "Auc5SJKyGO31",
        "outputId": "2ebf4992-c2c2-4e15-fdd5-16fd6ed74fbb"
      },
      "execution_count": 66,
      "outputs": [
        {
          "output_type": "execute_result",
          "data": {
            "text/plain": [
              "(tensor([1., 1., 1., 1., 1., 1., 1.]),\n",
              " array([1., 1., 1., 1., 1., 1., 1.], dtype=float32))"
            ]
          },
          "metadata": {},
          "execution_count": 66
        }
      ]
    },
    {
      "cell_type": "code",
      "source": [
        "tensor=tensor+1\n",
        "numpy_tensor,tensor"
      ],
      "metadata": {
        "colab": {
          "base_uri": "https://localhost:8080/"
        },
        "id": "Uw4mwTftGd0e",
        "outputId": "d7d46beb-eab5-42c7-9db9-91ab9d423fea"
      },
      "execution_count": 67,
      "outputs": [
        {
          "output_type": "execute_result",
          "data": {
            "text/plain": [
              "(array([1., 1., 1., 1., 1., 1., 1.], dtype=float32),\n",
              " tensor([2., 2., 2., 2., 2., 2., 2.]))"
            ]
          },
          "metadata": {},
          "execution_count": 67
        }
      ]
    },
    {
      "cell_type": "markdown",
      "source": [
        "#Reproducibility(trying to make random out of random)\n",
        "To reduce randomness in NAEURAL Network and pytorch comes the concept of random seed."
      ],
      "metadata": {
        "id": "B1FKvG6NG-D9"
      }
    },
    {
      "cell_type": "code",
      "source": [
        "A=torch.rand(3,4)\n",
        "B=torch.rand(3,4)\n",
        "print(f\"Tensor A : {A}\")\n",
        "print(f\"Tensor B : {B}\")"
      ],
      "metadata": {
        "colab": {
          "base_uri": "https://localhost:8080/"
        },
        "id": "0OuULOTXGtWC",
        "outputId": "0709b8de-f3c5-4a2a-dd61-bef8b1d8bc8f"
      },
      "execution_count": 68,
      "outputs": [
        {
          "output_type": "stream",
          "name": "stdout",
          "text": [
            "Tensor A : tensor([[0.4036, 0.4687, 0.7947, 0.3819],\n",
            "        [0.8105, 0.1107, 0.5742, 0.2689],\n",
            "        [0.1744, 0.2745, 0.3980, 0.8369]])\n",
            "Tensor B : tensor([[0.2815, 0.9474, 0.5900, 0.3442],\n",
            "        [0.1846, 0.0511, 0.6083, 0.5928],\n",
            "        [0.3917, 0.8813, 0.0393, 0.6938]])\n"
          ]
        }
      ]
    },
    {
      "cell_type": "code",
      "source": [
        "A==B"
      ],
      "metadata": {
        "colab": {
          "base_uri": "https://localhost:8080/"
        },
        "id": "IIdB3wGBQNaI",
        "outputId": "e38cd464-215d-4cd6-e0b0-b0beb7a9de60"
      },
      "execution_count": 69,
      "outputs": [
        {
          "output_type": "execute_result",
          "data": {
            "text/plain": [
              "tensor([[False, False, False, False],\n",
              "        [False, False, False, False],\n",
              "        [False, False, False, False]])"
            ]
          },
          "metadata": {},
          "execution_count": 69
        }
      ]
    },
    {
      "cell_type": "code",
      "source": [
        "random_seed=11\n",
        "torch.manual_seed(random_seed)\n",
        "random_tensor_C=torch.rand(3,4)\n",
        "#work for a single Block of code\n",
        "torch.manual_seed(random_seed)\n",
        "random_tensor_D=torch.rand(3,4)\n",
        "random_tensor_C,random_tensor_D,random_tensor_C==random_tensor_D"
      ],
      "metadata": {
        "colab": {
          "base_uri": "https://localhost:8080/"
        },
        "id": "sSTDLIB_HkoV",
        "outputId": "6244655f-2477-4ddb-ea5f-e5d1a797afa8"
      },
      "execution_count": 70,
      "outputs": [
        {
          "output_type": "execute_result",
          "data": {
            "text/plain": [
              "(tensor([[0.1490, 0.4866, 0.9857, 0.1684],\n",
              "         [0.5839, 0.6936, 0.5831, 0.1284],\n",
              "         [0.5721, 0.9248, 0.2693, 0.7825]]),\n",
              " tensor([[0.1490, 0.4866, 0.9857, 0.1684],\n",
              "         [0.5839, 0.6936, 0.5831, 0.1284],\n",
              "         [0.5721, 0.9248, 0.2693, 0.7825]]),\n",
              " tensor([[True, True, True, True],\n",
              "         [True, True, True, True],\n",
              "         [True, True, True, True]]))"
            ]
          },
          "metadata": {},
          "execution_count": 70
        }
      ]
    }
  ]
}