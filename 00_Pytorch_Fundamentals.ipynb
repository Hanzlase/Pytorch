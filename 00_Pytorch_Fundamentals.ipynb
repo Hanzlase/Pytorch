{
  "nbformat": 4,
  "nbformat_minor": 0,
  "metadata": {
    "colab": {
      "provenance": [],
      "authorship_tag": "ABX9TyPcMdnyzqdrSQZbYjEi9Jy9",
      "include_colab_link": true
    },
    "kernelspec": {
      "name": "python3",
      "display_name": "Python 3"
    },
    "language_info": {
      "name": "python"
    }
  },
  "cells": [
    {
      "cell_type": "markdown",
      "metadata": {
        "id": "view-in-github",
        "colab_type": "text"
      },
      "source": [
        "<a href=\"https://colab.research.google.com/github/Hanzlase/Pytorch/blob/main/00_Pytorch_Fundamentals.ipynb\" target=\"_parent\"><img src=\"https://colab.research.google.com/assets/colab-badge.svg\" alt=\"Open In Colab\"/></a>"
      ]
    },
    {
      "cell_type": "code",
      "execution_count": null,
      "metadata": {
        "id": "5cWC-9afOJU8"
      },
      "outputs": [],
      "source": [
        "print(\"Learning Pytorch\")"
      ]
    },
    {
      "cell_type": "code",
      "source": [
        "import torch\n",
        "import pandas as pd\n",
        "import numpy as np\n",
        "import matplotlib.pyplot as plt\n",
        "print(torch.__version__)"
      ],
      "metadata": {
        "colab": {
          "base_uri": "https://localhost:8080/"
        },
        "id": "LHMWOKO4TJo0",
        "outputId": "f84b2a05-6756-43e0-a4ce-9044ec3b8aa3"
      },
      "execution_count": 2,
      "outputs": [
        {
          "output_type": "stream",
          "name": "stdout",
          "text": [
            "2.8.0+cu126\n"
          ]
        }
      ]
    },
    {
      "cell_type": "markdown",
      "source": [
        "#Introduction to Tensors\n",
        "\n",
        "#Creating Tensors"
      ],
      "metadata": {
        "id": "6dTHgG7OcThX"
      }
    },
    {
      "cell_type": "code",
      "source": [
        "#Scalar\n",
        "scalar=torch.tensor(7)\n",
        "scalar"
      ],
      "metadata": {
        "colab": {
          "base_uri": "https://localhost:8080/"
        },
        "id": "aaSC62AMcY_y",
        "outputId": "4054e162-beec-4722-fdab-3236cbfb2edb"
      },
      "execution_count": 3,
      "outputs": [
        {
          "output_type": "execute_result",
          "data": {
            "text/plain": [
              "tensor(7)"
            ]
          },
          "metadata": {},
          "execution_count": 3
        }
      ]
    },
    {
      "cell_type": "code",
      "source": [
        "#Dimentions\n",
        "scalar.ndim\n"
      ],
      "metadata": {
        "colab": {
          "base_uri": "https://localhost:8080/"
        },
        "id": "iC2uecy-dYll",
        "outputId": "6843fe91-410c-447b-fe3a-a96af27b39bf"
      },
      "execution_count": 5,
      "outputs": [
        {
          "output_type": "execute_result",
          "data": {
            "text/plain": [
              "0"
            ]
          },
          "metadata": {},
          "execution_count": 5
        }
      ]
    },
    {
      "cell_type": "code",
      "source": [
        "scalar.item()"
      ],
      "metadata": {
        "colab": {
          "base_uri": "https://localhost:8080/"
        },
        "id": "rtEfXvNAd6Yc",
        "outputId": "32b39be2-aba7-4fa2-c106-6236ff7236fe"
      },
      "execution_count": 7,
      "outputs": [
        {
          "output_type": "execute_result",
          "data": {
            "text/plain": [
              "7"
            ]
          },
          "metadata": {},
          "execution_count": 7
        }
      ]
    },
    {
      "cell_type": "code",
      "source": [
        "#Vector\n",
        "vector=torch.tensor([7,7])\n",
        "vector"
      ],
      "metadata": {
        "colab": {
          "base_uri": "https://localhost:8080/"
        },
        "id": "4YP3Et-OeBB-",
        "outputId": "dbfda760-e691-4794-ba1b-112595a71be6"
      },
      "execution_count": 8,
      "outputs": [
        {
          "output_type": "execute_result",
          "data": {
            "text/plain": [
              "tensor([7, 7])"
            ]
          },
          "metadata": {},
          "execution_count": 8
        }
      ]
    },
    {
      "cell_type": "code",
      "source": [
        "vector.ndim"
      ],
      "metadata": {
        "colab": {
          "base_uri": "https://localhost:8080/"
        },
        "id": "SFpdu0AOeGpb",
        "outputId": "4e0ab209-f731-4536-8f07-ca28b25b40f0"
      },
      "execution_count": 9,
      "outputs": [
        {
          "output_type": "execute_result",
          "data": {
            "text/plain": [
              "1"
            ]
          },
          "metadata": {},
          "execution_count": 9
        }
      ]
    },
    {
      "cell_type": "code",
      "source": [
        "vector.shape"
      ],
      "metadata": {
        "colab": {
          "base_uri": "https://localhost:8080/"
        },
        "id": "HacHf6eOeS0J",
        "outputId": "62fb615f-7b96-4554-ccf7-f9df5ec528d9"
      },
      "execution_count": 10,
      "outputs": [
        {
          "output_type": "execute_result",
          "data": {
            "text/plain": [
              "torch.Size([2])"
            ]
          },
          "metadata": {},
          "execution_count": 10
        }
      ]
    },
    {
      "cell_type": "code",
      "source": [
        "#MATRIX\n",
        "MATRIX=torch.tensor([[7,8],\n",
        "                     [9,10]])\n",
        "MATRIX"
      ],
      "metadata": {
        "colab": {
          "base_uri": "https://localhost:8080/"
        },
        "id": "hl973PypeYQy",
        "outputId": "2fc98d74-1554-4e01-d33f-ca31e45a70c5"
      },
      "execution_count": 11,
      "outputs": [
        {
          "output_type": "execute_result",
          "data": {
            "text/plain": [
              "tensor([[ 7,  8],\n",
              "        [ 9, 10]])"
            ]
          },
          "metadata": {},
          "execution_count": 11
        }
      ]
    },
    {
      "cell_type": "code",
      "source": [
        "MATRIX.ndim"
      ],
      "metadata": {
        "colab": {
          "base_uri": "https://localhost:8080/"
        },
        "id": "hfx0ItvoeuL7",
        "outputId": "dbe890b7-f34c-42ec-e896-e19dc07e08cd"
      },
      "execution_count": 12,
      "outputs": [
        {
          "output_type": "execute_result",
          "data": {
            "text/plain": [
              "2"
            ]
          },
          "metadata": {},
          "execution_count": 12
        }
      ]
    },
    {
      "cell_type": "code",
      "source": [
        "MATRIX[0]"
      ],
      "metadata": {
        "colab": {
          "base_uri": "https://localhost:8080/"
        },
        "id": "PZ8Hj-91ezu1",
        "outputId": "1fccf089-2a34-412d-9d2f-b7f35a1e9efc"
      },
      "execution_count": 13,
      "outputs": [
        {
          "output_type": "execute_result",
          "data": {
            "text/plain": [
              "tensor([7, 8])"
            ]
          },
          "metadata": {},
          "execution_count": 13
        }
      ]
    },
    {
      "cell_type": "code",
      "source": [
        "MATRIX.shape"
      ],
      "metadata": {
        "colab": {
          "base_uri": "https://localhost:8080/"
        },
        "id": "AAY2JABbe36m",
        "outputId": "98d3a8a0-b9dd-4d2d-b018-4da7e66fa07f"
      },
      "execution_count": 14,
      "outputs": [
        {
          "output_type": "execute_result",
          "data": {
            "text/plain": [
              "torch.Size([2, 2])"
            ]
          },
          "metadata": {},
          "execution_count": 14
        }
      ]
    },
    {
      "cell_type": "code",
      "source": [
        "#TENSOR\n",
        "TENSOR=torch.tensor([[[1,2,3],\n",
        "                      [3,5,6],\n",
        "                      [8,5,2]]])\n",
        "TENSOR"
      ],
      "metadata": {
        "colab": {
          "base_uri": "https://localhost:8080/"
        },
        "id": "d50ZifZfe68F",
        "outputId": "56ffae9a-8431-441b-87ce-e4fc79ab3043"
      },
      "execution_count": 16,
      "outputs": [
        {
          "output_type": "execute_result",
          "data": {
            "text/plain": [
              "tensor([[[1, 2, 3],\n",
              "         [3, 5, 6],\n",
              "         [8, 5, 2]]])"
            ]
          },
          "metadata": {},
          "execution_count": 16
        }
      ]
    },
    {
      "cell_type": "code",
      "source": [
        "TENSOR.ndim"
      ],
      "metadata": {
        "colab": {
          "base_uri": "https://localhost:8080/"
        },
        "id": "0GMiAGebfeGw",
        "outputId": "6bb47594-d606-4a3a-daed-e00e10999967"
      },
      "execution_count": 17,
      "outputs": [
        {
          "output_type": "execute_result",
          "data": {
            "text/plain": [
              "3"
            ]
          },
          "metadata": {},
          "execution_count": 17
        }
      ]
    },
    {
      "cell_type": "code",
      "source": [
        "TENSOR.shape"
      ],
      "metadata": {
        "colab": {
          "base_uri": "https://localhost:8080/"
        },
        "id": "vEN-DsK7fhAT",
        "outputId": "37e40a03-f269-4ec8-a683-30d66607e942"
      },
      "execution_count": 18,
      "outputs": [
        {
          "output_type": "execute_result",
          "data": {
            "text/plain": [
              "torch.Size([1, 3, 3])"
            ]
          },
          "metadata": {},
          "execution_count": 18
        }
      ]
    },
    {
      "cell_type": "code",
      "source": [
        "TENSOR[0]"
      ],
      "metadata": {
        "colab": {
          "base_uri": "https://localhost:8080/"
        },
        "id": "JP9WOL97fpIu",
        "outputId": "4284d736-ec5d-4b58-af5f-153d0835f2f9"
      },
      "execution_count": 19,
      "outputs": [
        {
          "output_type": "execute_result",
          "data": {
            "text/plain": [
              "tensor([[1, 2, 3],\n",
              "        [3, 5, 6],\n",
              "        [8, 5, 2]])"
            ]
          },
          "metadata": {},
          "execution_count": 19
        }
      ]
    },
    {
      "cell_type": "markdown",
      "source": [
        "The output torch.Size([1, 3, 3]) for the tensor [[[1, 2, 3], [3, 5, 6], [8, 5, 2]]] might seem a little counter-intuitive at first.\n",
        "\n",
        "Here's how to break it down:\n",
        "\n",
        "The first dimension (size 1) represents the outermost set of square brackets [[...]]. There's only one of these main groups in your tensor.\n",
        "The second dimension (size 3) represents the number of lists within that outermost group. In your tensor, you have three inner lists: [1, 2, 3], [3, 5, 6], and [8, 5, 2].\n",
        "The third dimension (size 3) represents the number of elements within each of those inner lists. Each of your inner lists has three numbers.\n",
        "So, torch.Size([1, 3, 3]) means you have 1 block of data, and within that block, you have a 3x3 structure. This is a 3-dimensional tensor."
      ],
      "metadata": {
        "id": "vyHc_9G5gtAW"
      }
    },
    {
      "cell_type": "markdown",
      "source": [
        "###Random Tensors\n",
        "why Random tesnors?\n",
        "We use random tensors in PyTorch mostly to give our machine learning models a random starting point. Think of it like shuffling a deck of cards before a game it makes sure things aren't predictable from the start and helps the model learn better. They're also handy for making fake data when we just want to test things out.\n",
        "\n",
        "\n",
        "\"Start with Random numbers -> look at data -> update random numbers -> look at data -> update random numbers.\""
      ],
      "metadata": {
        "id": "gFPS2_jChdCR"
      }
    },
    {
      "cell_type": "code",
      "source": [
        "#Create a Random tensor of shape(3,4)\n",
        "random_tensor=torch.rand(3,4)\n",
        "random_tensor"
      ],
      "metadata": {
        "colab": {
          "base_uri": "https://localhost:8080/"
        },
        "id": "10aRV-6YhhKZ",
        "outputId": "0d424617-38ad-49fc-e816-70c680851ac7"
      },
      "execution_count": 20,
      "outputs": [
        {
          "output_type": "execute_result",
          "data": {
            "text/plain": [
              "tensor([[0.4142, 0.9099, 0.6929, 0.4534],\n",
              "        [0.2394, 0.3081, 0.4836, 0.0519],\n",
              "        [0.7292, 0.8434, 0.1559, 0.4692]])"
            ]
          },
          "metadata": {},
          "execution_count": 20
        }
      ]
    },
    {
      "cell_type": "code",
      "source": [
        "random_tensor.ndim\n"
      ],
      "metadata": {
        "colab": {
          "base_uri": "https://localhost:8080/"
        },
        "id": "C2mmuqQBi1HQ",
        "outputId": "b8d94d96-5a09-48cc-831d-fab49f6283df"
      },
      "execution_count": 21,
      "outputs": [
        {
          "output_type": "execute_result",
          "data": {
            "text/plain": [
              "2"
            ]
          },
          "metadata": {},
          "execution_count": 21
        }
      ]
    },
    {
      "cell_type": "code",
      "source": [
        "random_tensor.shape"
      ],
      "metadata": {
        "colab": {
          "base_uri": "https://localhost:8080/"
        },
        "id": "7oIXOIrHi2J9",
        "outputId": "2e9296dc-afdb-4c25-fcb9-39f060d4aff3"
      },
      "execution_count": 22,
      "outputs": [
        {
          "output_type": "execute_result",
          "data": {
            "text/plain": [
              "torch.Size([3, 4])"
            ]
          },
          "metadata": {},
          "execution_count": 22
        }
      ]
    },
    {
      "cell_type": "code",
      "source": [],
      "metadata": {
        "id": "QHJr4AhljIp3"
      },
      "execution_count": null,
      "outputs": []
    },
    {
      "cell_type": "code",
      "source": [
        "#Create a Random tensor with similar shape to an image tensor\n",
        "rand_img_size_tensor=torch.rand(size=(224,224,3))\n",
        "rand_img_size_tensor.shape,rand_img_size_tensor.ndim\n"
      ],
      "metadata": {
        "colab": {
          "base_uri": "https://localhost:8080/"
        },
        "id": "ZvsgfkdYjMjF",
        "outputId": "5412abc3-3b33-4848-8fc6-2ebae517c9f7"
      },
      "execution_count": 27,
      "outputs": [
        {
          "output_type": "execute_result",
          "data": {
            "text/plain": [
              "(torch.Size([224, 224, 3]), 3)"
            ]
          },
          "metadata": {},
          "execution_count": 27
        }
      ]
    },
    {
      "cell_type": "markdown",
      "source": [
        "#Zeros and Ones"
      ],
      "metadata": {
        "id": "XqF8pfJWkawk"
      }
    },
    {
      "cell_type": "code",
      "source": [
        "#Create a tensor of all zeros\n",
        "zeros=torch.zeros(3,4)\n",
        "zeros"
      ],
      "metadata": {
        "colab": {
          "base_uri": "https://localhost:8080/"
        },
        "id": "ggg3gsP1kcWj",
        "outputId": "62061acc-65ad-4235-b35b-d35bd8c52537"
      },
      "execution_count": 28,
      "outputs": [
        {
          "output_type": "execute_result",
          "data": {
            "text/plain": [
              "tensor([[0., 0., 0., 0.],\n",
              "        [0., 0., 0., 0.],\n",
              "        [0., 0., 0., 0.]])"
            ]
          },
          "metadata": {},
          "execution_count": 28
        }
      ]
    },
    {
      "cell_type": "code",
      "source": [
        "#Create a tensor of all ones\n",
        "ones=torch.ones(3,4)\n",
        "ones"
      ],
      "metadata": {
        "colab": {
          "base_uri": "https://localhost:8080/"
        },
        "id": "KvaDeUo6kpA2",
        "outputId": "1c12a66b-3ca2-4e3c-8fc5-b950db8d48dc"
      },
      "execution_count": 29,
      "outputs": [
        {
          "output_type": "execute_result",
          "data": {
            "text/plain": [
              "tensor([[1., 1., 1., 1.],\n",
              "        [1., 1., 1., 1.],\n",
              "        [1., 1., 1., 1.]])"
            ]
          },
          "metadata": {},
          "execution_count": 29
        }
      ]
    },
    {
      "cell_type": "code",
      "source": [
        "ones.dtype"
      ],
      "metadata": {
        "colab": {
          "base_uri": "https://localhost:8080/"
        },
        "id": "DxEHLIqKkxA2",
        "outputId": "8b33d439-3422-448f-feab-5dc5a1a780a9"
      },
      "execution_count": 30,
      "outputs": [
        {
          "output_type": "execute_result",
          "data": {
            "text/plain": [
              "torch.float32"
            ]
          },
          "metadata": {},
          "execution_count": 30
        }
      ]
    },
    {
      "cell_type": "code",
      "source": [
        "random_tensor.dtype"
      ],
      "metadata": {
        "colab": {
          "base_uri": "https://localhost:8080/"
        },
        "id": "Hinb062LkyzS",
        "outputId": "a69a268b-d5ff-4ec8-b6a3-11d6dcc1d69e"
      },
      "execution_count": 31,
      "outputs": [
        {
          "output_type": "execute_result",
          "data": {
            "text/plain": [
              "torch.float32"
            ]
          },
          "metadata": {},
          "execution_count": 31
        }
      ]
    },
    {
      "cell_type": "markdown",
      "source": [
        "#Creating a range of tensors and tensors-like\n",
        "\n"
      ],
      "metadata": {
        "id": "XlXp4BfBlGwD"
      }
    },
    {
      "cell_type": "code",
      "source": [
        "#Use torch.range()\n",
        "one_to_ten=torch.arange(start=0,end=11,step=2) # OR one_to_ten=torch.arange(0,11)\n",
        "one_to_ten"
      ],
      "metadata": {
        "colab": {
          "base_uri": "https://localhost:8080/"
        },
        "id": "lKDPVOnVk3XI",
        "outputId": "b2dbe918-6faf-4299-a1e9-1029e5ef7407"
      },
      "execution_count": 41,
      "outputs": [
        {
          "output_type": "execute_result",
          "data": {
            "text/plain": [
              "tensor([ 0,  2,  4,  6,  8, 10])"
            ]
          },
          "metadata": {},
          "execution_count": 41
        }
      ]
    },
    {
      "cell_type": "code",
      "source": [
        "#creating tensors like\n",
        "ten_zeros=torch.zeros_like(input =one_to_ten)\n",
        "ten_zeros"
      ],
      "metadata": {
        "colab": {
          "base_uri": "https://localhost:8080/"
        },
        "id": "Wm1JyNDWlHh7",
        "outputId": "0450be2a-4858-4bc4-ae64-717c31ff33b8"
      },
      "execution_count": 42,
      "outputs": [
        {
          "output_type": "execute_result",
          "data": {
            "text/plain": [
              "tensor([0, 0, 0, 0, 0, 0])"
            ]
          },
          "metadata": {},
          "execution_count": 42
        }
      ]
    },
    {
      "cell_type": "markdown",
      "source": [
        "#Tensor Datatype"
      ],
      "metadata": {
        "id": "C0x1s1jDmro8"
      }
    },
    {
      "cell_type": "code",
      "source": [
        "float_32_tensor=torch.tensor([3.0,6.0,9.0],\n",
        "                             dtype=None,#automatically sets it to float32\n",
        "                             device=None,#will be created on CPU\n",
        "                             requires_grad=False) #Don't bother keeping track of the steps needed to calculate gradients for this specific tensor.\n",
        "float_32_tensor"
      ],
      "metadata": {
        "colab": {
          "base_uri": "https://localhost:8080/"
        },
        "id": "09xhMYf-mvSS",
        "outputId": "25898365-e2b2-403f-8bf0-b177dfe65456"
      },
      "execution_count": 44,
      "outputs": [
        {
          "output_type": "execute_result",
          "data": {
            "text/plain": [
              "tensor([3., 6., 9.])"
            ]
          },
          "metadata": {},
          "execution_count": 44
        }
      ]
    },
    {
      "cell_type": "code",
      "source": [
        "#convert to 16\n",
        "float_16_tensor=float_32_tensor.type(torch.float16)"
      ],
      "metadata": {
        "id": "0S1IOedrmNzn"
      },
      "execution_count": 47,
      "outputs": []
    },
    {
      "cell_type": "code",
      "source": [
        "float_16_tensor * float_32_tensor"
      ],
      "metadata": {
        "colab": {
          "base_uri": "https://localhost:8080/"
        },
        "id": "SNBNBFvCpXVw",
        "outputId": "4baed518-51c7-4d43-a2de-64368072df31"
      },
      "execution_count": 48,
      "outputs": [
        {
          "output_type": "execute_result",
          "data": {
            "text/plain": [
              "tensor([ 9., 36., 81.])"
            ]
          },
          "metadata": {},
          "execution_count": 48
        }
      ]
    },
    {
      "cell_type": "code",
      "source": [
        "int_32_tensor=torch.tensor([3,6,9],dtype=torch.int32)\n",
        "int_32_tensor"
      ],
      "metadata": {
        "colab": {
          "base_uri": "https://localhost:8080/"
        },
        "id": "BaRAhZmEp9l9",
        "outputId": "2e960d4f-d68c-49b3-f7f5-45b7e39e9d9a"
      },
      "execution_count": 49,
      "outputs": [
        {
          "output_type": "execute_result",
          "data": {
            "text/plain": [
              "tensor([3, 6, 9], dtype=torch.int32)"
            ]
          },
          "metadata": {},
          "execution_count": 49
        }
      ]
    },
    {
      "cell_type": "code",
      "source": [
        "#we can multiply tensors with different datatypes\n",
        "int_32_tensor * float_32_tensor"
      ],
      "metadata": {
        "colab": {
          "base_uri": "https://localhost:8080/"
        },
        "id": "qtZRHARTqScM",
        "outputId": "a6a8a898-9dc3-4003-f0c5-9e04ba1a99a4"
      },
      "execution_count": 50,
      "outputs": [
        {
          "output_type": "execute_result",
          "data": {
            "text/plain": [
              "tensor([ 9., 36., 81.])"
            ]
          },
          "metadata": {},
          "execution_count": 50
        }
      ]
    },
    {
      "cell_type": "code",
      "source": [
        "#create a tensor\n",
        "some_tensor=torch.rand(4,5)\n",
        "some_tensor"
      ],
      "metadata": {
        "colab": {
          "base_uri": "https://localhost:8080/"
        },
        "id": "vONoeHoSrCHI",
        "outputId": "65b3960e-6356-4329-b627-a5b894556d1f"
      },
      "execution_count": 51,
      "outputs": [
        {
          "output_type": "execute_result",
          "data": {
            "text/plain": [
              "tensor([[0.3828, 0.9516, 0.6282, 0.9990, 0.7637],\n",
              "        [0.5475, 0.6896, 0.5418, 0.0997, 0.2655],\n",
              "        [0.6679, 0.9851, 0.2571, 0.1209, 0.4318],\n",
              "        [0.1122, 0.7624, 0.4357, 0.1027, 0.1091]])"
            ]
          },
          "metadata": {},
          "execution_count": 51
        }
      ]
    },
    {
      "cell_type": "code",
      "source": [
        "print(some_tensor)\n",
        "print(f\"Datatype of tensor: {some_tensor.dtype}\")\n",
        "print(f\"Shape of tensor: {some_tensor.shape}\")\n",
        "print(f\"Device tensor is on: {some_tensor.device}\")"
      ],
      "metadata": {
        "colab": {
          "base_uri": "https://localhost:8080/"
        },
        "id": "I4toPIOzrLsP",
        "outputId": "1adc4004-f804-4b2e-8654-7c46af5486a8"
      },
      "execution_count": 53,
      "outputs": [
        {
          "output_type": "stream",
          "name": "stdout",
          "text": [
            "tensor([[0.3828, 0.9516, 0.6282, 0.9990, 0.7637],\n",
            "        [0.5475, 0.6896, 0.5418, 0.0997, 0.2655],\n",
            "        [0.6679, 0.9851, 0.2571, 0.1209, 0.4318],\n",
            "        [0.1122, 0.7624, 0.4357, 0.1027, 0.1091]])\n",
            "Datatype of tensor: torch.float32\n",
            "Shape of tensor: torch.Size([4, 5])\n",
            "Device tensor is on: cpu\n"
          ]
        }
      ]
    },
    {
      "cell_type": "markdown",
      "source": [
        "#Tensor Manipulation\n"
      ],
      "metadata": {
        "id": "71FHU1F-rrOU"
      }
    },
    {
      "cell_type": "code",
      "source": [
        "# Create a tensor\n",
        "my_tensor = torch.tensor([1, 2, 3, 4, 5])\n",
        "\n",
        "# Add 10 to the tensor\n",
        "tensor_plus_10 = my_tensor + 10\n",
        "\n",
        "print(f\"Original tensor: {my_tensor}\")\n",
        "print(f\"Tensor after adding 10: {tensor_plus_10}\")"
      ],
      "metadata": {
        "colab": {
          "base_uri": "https://localhost:8080/"
        },
        "id": "ti0TpqKmsThQ",
        "outputId": "118250f9-f16b-49ce-8d4b-edb1c4e881de"
      },
      "execution_count": 55,
      "outputs": [
        {
          "output_type": "stream",
          "name": "stdout",
          "text": [
            "Original tensor: tensor([1, 2, 3, 4, 5])\n",
            "Tensor after adding 10: tensor([11, 12, 13, 14, 15])\n"
          ]
        }
      ]
    },
    {
      "cell_type": "code",
      "source": [
        "# Multiply the tensor by 10\n",
        "tensor_times_10 = my_tensor * 10\n",
        "\n",
        "print(f\"Original tensor: {my_tensor}\")\n",
        "print(f\"Tensor after multiplying by 10: {tensor_times_10}\")"
      ],
      "metadata": {
        "colab": {
          "base_uri": "https://localhost:8080/"
        },
        "id": "xizID38nsfdk",
        "outputId": "3c68aced-6b42-43f9-f1ca-7801cc856e1b"
      },
      "execution_count": 56,
      "outputs": [
        {
          "output_type": "stream",
          "name": "stdout",
          "text": [
            "Original tensor: tensor([1, 2, 3, 4, 5])\n",
            "Tensor after multiplying by 10: tensor([10, 20, 30, 40, 50])\n"
          ]
        }
      ]
    },
    {
      "cell_type": "code",
      "source": [
        "# Subtract 10 from the tensor\n",
        "tensor_minus_10 = my_tensor - 10\n",
        "\n",
        "print(f\"Original tensor: {my_tensor}\")\n",
        "print(f\"Tensor after subtracting 10: {tensor_minus_10}\")"
      ],
      "metadata": {
        "colab": {
          "base_uri": "https://localhost:8080/"
        },
        "id": "bgKnSzH6so8C",
        "outputId": "45c5b101-0330-47b2-d600-11fad76637f2"
      },
      "execution_count": 57,
      "outputs": [
        {
          "output_type": "stream",
          "name": "stdout",
          "text": [
            "Original tensor: tensor([1, 2, 3, 4, 5])\n",
            "Tensor after subtracting 10: tensor([-9, -8, -7, -6, -5])\n"
          ]
        }
      ]
    },
    {
      "cell_type": "code",
      "source": [
        "# Create a tensor\n",
        "tensor_a = torch.tensor([1, 2, 3, 4, 5])\n",
        "tensor_b = torch.tensor([6, 7, 8, 9, 10])\n",
        "\n",
        "# Element-wise addition using torch.add()\n",
        "addition_result = torch.add(tensor_a, tensor_b)\n",
        "print(f\"Element-wise addition using torch.add(): {addition_result}\")\n",
        "\n",
        "# Element-wise multiplication using torch.mul()\n",
        "multiplication_result = torch.mul(tensor_a, tensor_b)\n",
        "print(f\"Element-wise multiplication using torch.mul(): {multiplication_result}\")\n",
        "\n",
        "# Element-wise subtraction using torch.sub()\n",
        "subtract_result = torch.sub(tensor_b, tensor_a)\n",
        "print(f\"Element-wise subtraction using torch.sub(): {subtract_result}\")\n",
        "\n",
        "# Element-wise division using torch.div()\n",
        "division_result = torch.div(tensor_b, tensor_a)\n",
        "print(f\"Element-wise division using torch.div(): {division_result}\")"
      ],
      "metadata": {
        "colab": {
          "base_uri": "https://localhost:8080/"
        },
        "id": "4Fdl0Oils6ZA",
        "outputId": "f669394e-46f6-4544-a02b-d1b10f2914a9"
      },
      "execution_count": 58,
      "outputs": [
        {
          "output_type": "stream",
          "name": "stdout",
          "text": [
            "Element-wise addition using torch.add(): tensor([ 7,  9, 11, 13, 15])\n",
            "Element-wise multiplication using torch.mul(): tensor([ 6, 14, 24, 36, 50])\n",
            "Element-wise subtraction using torch.sub(): tensor([5, 5, 5, 5, 5])\n",
            "Element-wise division using torch.div(): tensor([6.0000, 3.5000, 2.6667, 2.2500, 2.0000])\n"
          ]
        }
      ]
    },
    {
      "cell_type": "code",
      "source": [
        "# Create two tensors for matrix multiplication\n",
        "tensor_matrix_a = torch.tensor([[1, 2],\n",
        "                                 [3, 4]])\n",
        "\n",
        "tensor_matrix_b = torch.tensor([[5, 6],\n",
        "                                 [7, 8]])\n",
        "\n",
        "# Perform matrix multiplication using torch.matmul()\n",
        "matrix_mult_result = torch.matmul(tensor_matrix_a, tensor_matrix_b)\n",
        "print(f\"Matrix A:\\n{tensor_matrix_a}\")\n",
        "print(f\"Matrix B:\\n{tensor_matrix_b}\")\n",
        "print(f\"Result of matrix multiplication:\\n{matrix_mult_result}\")\n",
        "\n",
        "# Alternatively, use the @ operator\n",
        "matrix_mult_result_alt = tensor_matrix_a @ tensor_matrix_b\n",
        "print(f\"\\nResult of matrix multiplication (using @ operator):\\n{matrix_mult_result_alt}\")"
      ],
      "metadata": {
        "colab": {
          "base_uri": "https://localhost:8080/"
        },
        "id": "0-7n0xbctMNI",
        "outputId": "2eede7f0-2032-4323-81c7-87c382cabf5c"
      },
      "execution_count": 59,
      "outputs": [
        {
          "output_type": "stream",
          "name": "stdout",
          "text": [
            "Matrix A:\n",
            "tensor([[1, 2],\n",
            "        [3, 4]])\n",
            "Matrix B:\n",
            "tensor([[5, 6],\n",
            "        [7, 8]])\n",
            "Result of matrix multiplication:\n",
            "tensor([[19, 22],\n",
            "        [43, 50]])\n",
            "\n",
            "Result of matrix multiplication (using @ operator):\n",
            "tensor([[19, 22],\n",
            "        [43, 50]])\n"
          ]
        }
      ]
    },
    {
      "cell_type": "code",
      "source": [
        "%%time\n",
        "val=0\n",
        "for i in range(len(tensor_a)):\n",
        "  val+=tensor_a[i]*tensor_b[i]\n",
        "print(val)"
      ],
      "metadata": {
        "colab": {
          "base_uri": "https://localhost:8080/"
        },
        "id": "4MW6WYeot-5t",
        "outputId": "e0424ad2-b56c-4636-e91a-23dd6f7af1af"
      },
      "execution_count": 68,
      "outputs": [
        {
          "output_type": "stream",
          "name": "stdout",
          "text": [
            "tensor(130)\n",
            "CPU times: user 1.74 ms, sys: 0 ns, total: 1.74 ms\n",
            "Wall time: 1.52 ms\n"
          ]
        }
      ]
    },
    {
      "cell_type": "code",
      "source": [
        "#Far faster than For loop\n",
        "%%time\n",
        "torch.matmul(tensor_a,tensor_b)\n"
      ],
      "metadata": {
        "colab": {
          "base_uri": "https://localhost:8080/"
        },
        "id": "EmkCXJccueLa",
        "outputId": "4dceb9fb-34d9-409a-f817-df4b9dda39b7"
      },
      "execution_count": 69,
      "outputs": [
        {
          "output_type": "stream",
          "name": "stdout",
          "text": [
            "CPU times: user 96 µs, sys: 4 µs, total: 100 µs\n",
            "Wall time: 106 µs\n"
          ]
        },
        {
          "output_type": "execute_result",
          "data": {
            "text/plain": [
              "tensor(130)"
            ]
          },
          "metadata": {},
          "execution_count": 69
        }
      ]
    },
    {
      "cell_type": "code",
      "source": [],
      "metadata": {
        "id": "AGZEiOK3vKe6"
      },
      "execution_count": null,
      "outputs": []
    }
  ]
}