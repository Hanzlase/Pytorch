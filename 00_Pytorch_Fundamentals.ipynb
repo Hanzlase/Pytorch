{
  "nbformat": 4,
  "nbformat_minor": 0,
  "metadata": {
    "colab": {
      "provenance": [],
      "gpuType": "V5E1",
      "authorship_tag": "ABX9TyOqKxaR1A1gj3gO2XZEhT6A",
      "include_colab_link": true
    },
    "kernelspec": {
      "name": "python3",
      "display_name": "Python 3"
    },
    "language_info": {
      "name": "python"
    },
    "accelerator": "TPU"
  },
  "cells": [
    {
      "cell_type": "markdown",
      "metadata": {
        "id": "view-in-github",
        "colab_type": "text"
      },
      "source": [
        "<a href=\"https://colab.research.google.com/github/Hanzlase/Pytorch/blob/main/00_Pytorch_Fundamentals.ipynb\" target=\"_parent\"><img src=\"https://colab.research.google.com/assets/colab-badge.svg\" alt=\"Open In Colab\"/></a>"
      ]
    },
    {
      "cell_type": "code",
      "execution_count": null,
      "metadata": {
        "id": "5cWC-9afOJU8",
        "colab": {
          "base_uri": "https://localhost:8080/"
        },
        "outputId": "bd70d8d7-6668-44f5-ef43-cf45039cb6fe"
      },
      "outputs": [
        {
          "output_type": "stream",
          "name": "stdout",
          "text": [
            "Learning Pytorch\n"
          ]
        }
      ],
      "source": [
        "print(\"Learning Pytorch\")"
      ]
    },
    {
      "cell_type": "code",
      "source": [
        "import torch\n",
        "import pandas as pd\n",
        "import numpy as np\n",
        "import matplotlib.pyplot as plt\n",
        "print(torch.__version__)"
      ],
      "metadata": {
        "colab": {
          "base_uri": "https://localhost:8080/"
        },
        "id": "LHMWOKO4TJo0",
        "outputId": "2a48f8e8-5bac-4bdc-8985-1eb55f535280"
      },
      "execution_count": null,
      "outputs": [
        {
          "output_type": "stream",
          "name": "stdout",
          "text": [
            "2.8.0+cpu\n"
          ]
        }
      ]
    },
    {
      "cell_type": "markdown",
      "source": [
        "#Introduction to Tensors\n",
        "\n",
        "#Creating Tensors"
      ],
      "metadata": {
        "id": "6dTHgG7OcThX"
      }
    },
    {
      "cell_type": "code",
      "source": [
        "#Scalar\n",
        "scalar=torch.tensor(7)\n",
        "scalar"
      ],
      "metadata": {
        "colab": {
          "base_uri": "https://localhost:8080/"
        },
        "id": "aaSC62AMcY_y",
        "outputId": "d42acc16-6219-4c40-91b9-f6dd371300d0"
      },
      "execution_count": null,
      "outputs": [
        {
          "output_type": "execute_result",
          "data": {
            "text/plain": [
              "tensor(7)"
            ]
          },
          "metadata": {},
          "execution_count": 3
        }
      ]
    },
    {
      "cell_type": "code",
      "source": [
        "#Dimentions\n",
        "scalar.ndim\n"
      ],
      "metadata": {
        "colab": {
          "base_uri": "https://localhost:8080/"
        },
        "id": "iC2uecy-dYll",
        "outputId": "537fd984-9586-428d-e57b-a45347eb879d"
      },
      "execution_count": null,
      "outputs": [
        {
          "output_type": "execute_result",
          "data": {
            "text/plain": [
              "0"
            ]
          },
          "metadata": {},
          "execution_count": 4
        }
      ]
    },
    {
      "cell_type": "code",
      "source": [
        "scalar.item()"
      ],
      "metadata": {
        "colab": {
          "base_uri": "https://localhost:8080/"
        },
        "id": "rtEfXvNAd6Yc",
        "outputId": "8b92ca44-1078-4701-f1f9-b2f10441b930"
      },
      "execution_count": null,
      "outputs": [
        {
          "output_type": "execute_result",
          "data": {
            "text/plain": [
              "7"
            ]
          },
          "metadata": {},
          "execution_count": 5
        }
      ]
    },
    {
      "cell_type": "code",
      "source": [
        "#Vector\n",
        "vector=torch.tensor([7,7])\n",
        "vector"
      ],
      "metadata": {
        "colab": {
          "base_uri": "https://localhost:8080/"
        },
        "id": "4YP3Et-OeBB-",
        "outputId": "a0cff474-4239-4def-e0d9-3a6351079432"
      },
      "execution_count": null,
      "outputs": [
        {
          "output_type": "execute_result",
          "data": {
            "text/plain": [
              "tensor([7, 7])"
            ]
          },
          "metadata": {},
          "execution_count": 6
        }
      ]
    },
    {
      "cell_type": "code",
      "source": [
        "vector.ndim"
      ],
      "metadata": {
        "colab": {
          "base_uri": "https://localhost:8080/"
        },
        "id": "SFpdu0AOeGpb",
        "outputId": "395171d6-7fc8-42d5-dd9a-fde802da148e"
      },
      "execution_count": null,
      "outputs": [
        {
          "output_type": "execute_result",
          "data": {
            "text/plain": [
              "1"
            ]
          },
          "metadata": {},
          "execution_count": 7
        }
      ]
    },
    {
      "cell_type": "code",
      "source": [
        "vector.shape"
      ],
      "metadata": {
        "colab": {
          "base_uri": "https://localhost:8080/"
        },
        "id": "HacHf6eOeS0J",
        "outputId": "35242c02-5a91-4c9c-e5e0-bc0f34e7bbaf"
      },
      "execution_count": null,
      "outputs": [
        {
          "output_type": "execute_result",
          "data": {
            "text/plain": [
              "torch.Size([2])"
            ]
          },
          "metadata": {},
          "execution_count": 8
        }
      ]
    },
    {
      "cell_type": "code",
      "source": [
        "#MATRIX\n",
        "MATRIX=torch.tensor([[7,8],\n",
        "                     [9,10]])\n",
        "MATRIX"
      ],
      "metadata": {
        "colab": {
          "base_uri": "https://localhost:8080/"
        },
        "id": "hl973PypeYQy",
        "outputId": "f2d502e8-6ee1-403e-d1cb-036197ca249a"
      },
      "execution_count": null,
      "outputs": [
        {
          "output_type": "execute_result",
          "data": {
            "text/plain": [
              "tensor([[ 7,  8],\n",
              "        [ 9, 10]])"
            ]
          },
          "metadata": {},
          "execution_count": 9
        }
      ]
    },
    {
      "cell_type": "code",
      "source": [
        "MATRIX.ndim"
      ],
      "metadata": {
        "colab": {
          "base_uri": "https://localhost:8080/"
        },
        "id": "hfx0ItvoeuL7",
        "outputId": "bd5a3850-d4ce-4cbb-9d1a-0ce0d77acbb5"
      },
      "execution_count": null,
      "outputs": [
        {
          "output_type": "execute_result",
          "data": {
            "text/plain": [
              "2"
            ]
          },
          "metadata": {},
          "execution_count": 10
        }
      ]
    },
    {
      "cell_type": "code",
      "source": [
        "MATRIX[0]"
      ],
      "metadata": {
        "colab": {
          "base_uri": "https://localhost:8080/"
        },
        "id": "PZ8Hj-91ezu1",
        "outputId": "3923359e-761c-4b32-d33a-7f08d25f6763"
      },
      "execution_count": null,
      "outputs": [
        {
          "output_type": "execute_result",
          "data": {
            "text/plain": [
              "tensor([7, 8])"
            ]
          },
          "metadata": {},
          "execution_count": 11
        }
      ]
    },
    {
      "cell_type": "code",
      "source": [
        "MATRIX.shape"
      ],
      "metadata": {
        "colab": {
          "base_uri": "https://localhost:8080/"
        },
        "id": "AAY2JABbe36m",
        "outputId": "a2c8586d-3ac6-4cd0-b39c-de7bec94a39a"
      },
      "execution_count": null,
      "outputs": [
        {
          "output_type": "execute_result",
          "data": {
            "text/plain": [
              "torch.Size([2, 2])"
            ]
          },
          "metadata": {},
          "execution_count": 12
        }
      ]
    },
    {
      "cell_type": "code",
      "source": [
        "#TENSOR\n",
        "TENSOR=torch.tensor([[[1,2,3],\n",
        "                      [3,5,6],\n",
        "                      [8,5,2]]])\n",
        "TENSOR"
      ],
      "metadata": {
        "colab": {
          "base_uri": "https://localhost:8080/"
        },
        "id": "d50ZifZfe68F",
        "outputId": "76d107e6-d570-4985-8ff4-f3a7c404545b"
      },
      "execution_count": null,
      "outputs": [
        {
          "output_type": "execute_result",
          "data": {
            "text/plain": [
              "tensor([[[1, 2, 3],\n",
              "         [3, 5, 6],\n",
              "         [8, 5, 2]]])"
            ]
          },
          "metadata": {},
          "execution_count": 13
        }
      ]
    },
    {
      "cell_type": "code",
      "source": [
        "TENSOR.ndim"
      ],
      "metadata": {
        "colab": {
          "base_uri": "https://localhost:8080/"
        },
        "id": "0GMiAGebfeGw",
        "outputId": "690bc0dd-f835-49df-a6fe-c63649f2955a"
      },
      "execution_count": null,
      "outputs": [
        {
          "output_type": "execute_result",
          "data": {
            "text/plain": [
              "3"
            ]
          },
          "metadata": {},
          "execution_count": 14
        }
      ]
    },
    {
      "cell_type": "code",
      "source": [
        "TENSOR.shape"
      ],
      "metadata": {
        "colab": {
          "base_uri": "https://localhost:8080/"
        },
        "id": "vEN-DsK7fhAT",
        "outputId": "0a75d5e4-064f-4702-9599-59a7d6a1e027"
      },
      "execution_count": null,
      "outputs": [
        {
          "output_type": "execute_result",
          "data": {
            "text/plain": [
              "torch.Size([1, 3, 3])"
            ]
          },
          "metadata": {},
          "execution_count": 15
        }
      ]
    },
    {
      "cell_type": "code",
      "source": [
        "TENSOR[0]"
      ],
      "metadata": {
        "colab": {
          "base_uri": "https://localhost:8080/"
        },
        "id": "JP9WOL97fpIu",
        "outputId": "421edcf1-01f2-4fcf-cc8f-25139c099e7b"
      },
      "execution_count": null,
      "outputs": [
        {
          "output_type": "execute_result",
          "data": {
            "text/plain": [
              "tensor([[1, 2, 3],\n",
              "        [3, 5, 6],\n",
              "        [8, 5, 2]])"
            ]
          },
          "metadata": {},
          "execution_count": 16
        }
      ]
    },
    {
      "cell_type": "markdown",
      "source": [
        "The output torch.Size([1, 3, 3]) for the tensor [[[1, 2, 3], [3, 5, 6], [8, 5, 2]]] might seem a little counter-intuitive at first.\n",
        "\n",
        "Here's how to break it down:\n",
        "\n",
        "The first dimension (size 1) represents the outermost set of square brackets [[...]]. There's only one of these main groups in your tensor.\n",
        "The second dimension (size 3) represents the number of lists within that outermost group. In your tensor, you have three inner lists: [1, 2, 3], [3, 5, 6], and [8, 5, 2].\n",
        "The third dimension (size 3) represents the number of elements within each of those inner lists. Each of your inner lists has three numbers.\n",
        "So, torch.Size([1, 3, 3]) means you have 1 block of data, and within that block, you have a 3x3 structure. This is a 3-dimensional tensor."
      ],
      "metadata": {
        "id": "vyHc_9G5gtAW"
      }
    },
    {
      "cell_type": "markdown",
      "source": [
        "###Random Tensors\n",
        "why Random tesnors?\n",
        "We use random tensors in PyTorch mostly to give our machine learning models a random starting point. Think of it like shuffling a deck of cards before a game it makes sure things aren't predictable from the start and helps the model learn better. They're also handy for making fake data when we just want to test things out.\n",
        "\n",
        "\n",
        "\"Start with Random numbers -> look at data -> update random numbers -> look at data -> update random numbers.\""
      ],
      "metadata": {
        "id": "gFPS2_jChdCR"
      }
    },
    {
      "cell_type": "code",
      "source": [
        "#Create a Random tensor of shape(3,4)\n",
        "random_tensor=torch.rand(3,4)\n",
        "random_tensor"
      ],
      "metadata": {
        "colab": {
          "base_uri": "https://localhost:8080/"
        },
        "id": "10aRV-6YhhKZ",
        "outputId": "9d0e9d25-7f18-4e3b-cb4a-e47a3f1010c8"
      },
      "execution_count": null,
      "outputs": [
        {
          "output_type": "execute_result",
          "data": {
            "text/plain": [
              "tensor([[0.6263, 0.4993, 0.5715, 0.9257],\n",
              "        [0.9161, 0.4615, 0.8682, 0.4620],\n",
              "        [0.1736, 0.9566, 0.7718, 0.5654]])"
            ]
          },
          "metadata": {},
          "execution_count": 17
        }
      ]
    },
    {
      "cell_type": "code",
      "source": [
        "random_tensor.ndim\n"
      ],
      "metadata": {
        "colab": {
          "base_uri": "https://localhost:8080/"
        },
        "id": "C2mmuqQBi1HQ",
        "outputId": "87315123-edde-4b23-a857-941de11dba2b"
      },
      "execution_count": null,
      "outputs": [
        {
          "output_type": "execute_result",
          "data": {
            "text/plain": [
              "2"
            ]
          },
          "metadata": {},
          "execution_count": 18
        }
      ]
    },
    {
      "cell_type": "code",
      "source": [
        "random_tensor.shape"
      ],
      "metadata": {
        "colab": {
          "base_uri": "https://localhost:8080/"
        },
        "id": "7oIXOIrHi2J9",
        "outputId": "0e2f434f-c1c0-450f-a380-29aa96162df0"
      },
      "execution_count": null,
      "outputs": [
        {
          "output_type": "execute_result",
          "data": {
            "text/plain": [
              "torch.Size([3, 4])"
            ]
          },
          "metadata": {},
          "execution_count": 19
        }
      ]
    },
    {
      "cell_type": "code",
      "source": [],
      "metadata": {
        "id": "QHJr4AhljIp3"
      },
      "execution_count": null,
      "outputs": []
    },
    {
      "cell_type": "code",
      "source": [
        "#Create a Random tensor with similar shape to an image tensor\n",
        "rand_img_size_tensor=torch.rand(size=(224,224,3))\n",
        "rand_img_size_tensor.shape,rand_img_size_tensor.ndim\n"
      ],
      "metadata": {
        "colab": {
          "base_uri": "https://localhost:8080/"
        },
        "id": "ZvsgfkdYjMjF",
        "outputId": "82211cd2-a377-40f8-db89-19495f260eb8"
      },
      "execution_count": null,
      "outputs": [
        {
          "output_type": "execute_result",
          "data": {
            "text/plain": [
              "(torch.Size([224, 224, 3]), 3)"
            ]
          },
          "metadata": {},
          "execution_count": 20
        }
      ]
    },
    {
      "cell_type": "markdown",
      "source": [
        "#Zeros and Ones"
      ],
      "metadata": {
        "id": "XqF8pfJWkawk"
      }
    },
    {
      "cell_type": "code",
      "source": [
        "#Create a tensor of all zeros\n",
        "zeros=torch.zeros(3,4)\n",
        "zeros"
      ],
      "metadata": {
        "colab": {
          "base_uri": "https://localhost:8080/"
        },
        "id": "ggg3gsP1kcWj",
        "outputId": "c372a47f-1830-4bb6-bb36-c188cc3cfb29"
      },
      "execution_count": null,
      "outputs": [
        {
          "output_type": "execute_result",
          "data": {
            "text/plain": [
              "tensor([[0., 0., 0., 0.],\n",
              "        [0., 0., 0., 0.],\n",
              "        [0., 0., 0., 0.]])"
            ]
          },
          "metadata": {},
          "execution_count": 21
        }
      ]
    },
    {
      "cell_type": "code",
      "source": [
        "#Create a tensor of all ones\n",
        "ones=torch.ones(3,4)\n",
        "ones"
      ],
      "metadata": {
        "colab": {
          "base_uri": "https://localhost:8080/"
        },
        "id": "KvaDeUo6kpA2",
        "outputId": "bccecd97-377e-4e90-f30a-2654ef04de29"
      },
      "execution_count": null,
      "outputs": [
        {
          "output_type": "execute_result",
          "data": {
            "text/plain": [
              "tensor([[1., 1., 1., 1.],\n",
              "        [1., 1., 1., 1.],\n",
              "        [1., 1., 1., 1.]])"
            ]
          },
          "metadata": {},
          "execution_count": 22
        }
      ]
    },
    {
      "cell_type": "code",
      "source": [
        "ones.dtype"
      ],
      "metadata": {
        "colab": {
          "base_uri": "https://localhost:8080/"
        },
        "id": "DxEHLIqKkxA2",
        "outputId": "7345f033-d4f7-4c98-961d-b95a45b26123"
      },
      "execution_count": null,
      "outputs": [
        {
          "output_type": "execute_result",
          "data": {
            "text/plain": [
              "torch.float32"
            ]
          },
          "metadata": {},
          "execution_count": 23
        }
      ]
    },
    {
      "cell_type": "code",
      "source": [
        "random_tensor.dtype"
      ],
      "metadata": {
        "colab": {
          "base_uri": "https://localhost:8080/"
        },
        "id": "Hinb062LkyzS",
        "outputId": "c231a0ad-79c0-43d3-b575-700dce18c521"
      },
      "execution_count": null,
      "outputs": [
        {
          "output_type": "execute_result",
          "data": {
            "text/plain": [
              "torch.float32"
            ]
          },
          "metadata": {},
          "execution_count": 24
        }
      ]
    },
    {
      "cell_type": "markdown",
      "source": [
        "#Creating a range of tensors and tensors-like\n",
        "\n"
      ],
      "metadata": {
        "id": "XlXp4BfBlGwD"
      }
    },
    {
      "cell_type": "code",
      "source": [
        "#Use torch.range()\n",
        "one_to_ten=torch.arange(start=0,end=11,step=2) # OR one_to_ten=torch.arange(0,11)\n",
        "one_to_ten"
      ],
      "metadata": {
        "colab": {
          "base_uri": "https://localhost:8080/"
        },
        "id": "lKDPVOnVk3XI",
        "outputId": "a19f70d9-0c11-42c1-d62a-f6e514b5b7f0"
      },
      "execution_count": null,
      "outputs": [
        {
          "output_type": "execute_result",
          "data": {
            "text/plain": [
              "tensor([ 0,  2,  4,  6,  8, 10])"
            ]
          },
          "metadata": {},
          "execution_count": 25
        }
      ]
    },
    {
      "cell_type": "code",
      "source": [
        "#creating tensors like\n",
        "ten_zeros=torch.zeros_like(input =one_to_ten)\n",
        "ten_zeros"
      ],
      "metadata": {
        "colab": {
          "base_uri": "https://localhost:8080/"
        },
        "id": "Wm1JyNDWlHh7",
        "outputId": "d8818ad6-567e-4c63-b6a1-f1301c6ebcb1"
      },
      "execution_count": null,
      "outputs": [
        {
          "output_type": "execute_result",
          "data": {
            "text/plain": [
              "tensor([0, 0, 0, 0, 0, 0])"
            ]
          },
          "metadata": {},
          "execution_count": 26
        }
      ]
    },
    {
      "cell_type": "markdown",
      "source": [
        "#Tensor Datatype"
      ],
      "metadata": {
        "id": "C0x1s1jDmro8"
      }
    },
    {
      "cell_type": "code",
      "source": [
        "float_32_tensor=torch.tensor([3.0,6.0,9.0],\n",
        "                             dtype=None,#automatically sets it to float32\n",
        "                             device=None,#will be created on CPU\n",
        "                             requires_grad=False) #Don't bother keeping track of the steps needed to calculate gradients for this specific tensor.\n",
        "float_32_tensor"
      ],
      "metadata": {
        "colab": {
          "base_uri": "https://localhost:8080/"
        },
        "id": "09xhMYf-mvSS",
        "outputId": "3d4f70db-117f-428c-b52c-0d09f347cef1"
      },
      "execution_count": null,
      "outputs": [
        {
          "output_type": "execute_result",
          "data": {
            "text/plain": [
              "tensor([3., 6., 9.])"
            ]
          },
          "metadata": {},
          "execution_count": 27
        }
      ]
    },
    {
      "cell_type": "code",
      "source": [
        "#convert to 16\n",
        "float_16_tensor=float_32_tensor.type(torch.float16)"
      ],
      "metadata": {
        "id": "0S1IOedrmNzn"
      },
      "execution_count": null,
      "outputs": []
    },
    {
      "cell_type": "code",
      "source": [
        "float_16_tensor * float_32_tensor"
      ],
      "metadata": {
        "colab": {
          "base_uri": "https://localhost:8080/"
        },
        "id": "SNBNBFvCpXVw",
        "outputId": "cdff3060-5f0f-42b1-b2ff-9228ac476a1e"
      },
      "execution_count": null,
      "outputs": [
        {
          "output_type": "execute_result",
          "data": {
            "text/plain": [
              "tensor([ 9., 36., 81.])"
            ]
          },
          "metadata": {},
          "execution_count": 29
        }
      ]
    },
    {
      "cell_type": "code",
      "source": [
        "int_32_tensor=torch.tensor([3,6,9],dtype=torch.int32)\n",
        "int_32_tensor"
      ],
      "metadata": {
        "colab": {
          "base_uri": "https://localhost:8080/"
        },
        "id": "BaRAhZmEp9l9",
        "outputId": "68288402-09d0-4863-863c-fad07b0a05d4"
      },
      "execution_count": null,
      "outputs": [
        {
          "output_type": "execute_result",
          "data": {
            "text/plain": [
              "tensor([3, 6, 9], dtype=torch.int32)"
            ]
          },
          "metadata": {},
          "execution_count": 30
        }
      ]
    },
    {
      "cell_type": "code",
      "source": [
        "#we can multiply tensors with different datatypes\n",
        "int_32_tensor * float_32_tensor"
      ],
      "metadata": {
        "colab": {
          "base_uri": "https://localhost:8080/"
        },
        "id": "qtZRHARTqScM",
        "outputId": "644fcee2-67ed-43e9-f859-e3189615c634"
      },
      "execution_count": null,
      "outputs": [
        {
          "output_type": "execute_result",
          "data": {
            "text/plain": [
              "tensor([ 9., 36., 81.])"
            ]
          },
          "metadata": {},
          "execution_count": 31
        }
      ]
    },
    {
      "cell_type": "code",
      "source": [
        "#create a tensor\n",
        "some_tensor=torch.rand(4,5)\n",
        "some_tensor"
      ],
      "metadata": {
        "colab": {
          "base_uri": "https://localhost:8080/"
        },
        "id": "vONoeHoSrCHI",
        "outputId": "a1fee233-cc16-4b3e-f0ed-b99f5cf7648d"
      },
      "execution_count": null,
      "outputs": [
        {
          "output_type": "execute_result",
          "data": {
            "text/plain": [
              "tensor([[0.8800, 0.3369, 0.6562, 0.7394, 0.1740],\n",
              "        [0.1848, 0.2925, 0.5647, 0.1768, 0.9427],\n",
              "        [0.3102, 0.8342, 0.3844, 0.1045, 0.7195],\n",
              "        [0.3997, 0.6590, 0.6677, 0.9000, 0.5532]])"
            ]
          },
          "metadata": {},
          "execution_count": 32
        }
      ]
    },
    {
      "cell_type": "code",
      "source": [
        "print(some_tensor)\n",
        "print(f\"Datatype of tensor: {some_tensor.dtype}\")\n",
        "print(f\"Shape of tensor: {some_tensor.shape}\")\n",
        "print(f\"Device tensor is on: {some_tensor.device}\")"
      ],
      "metadata": {
        "colab": {
          "base_uri": "https://localhost:8080/"
        },
        "id": "I4toPIOzrLsP",
        "outputId": "2857e47e-9f5d-4741-e3fd-116f1387f73c"
      },
      "execution_count": null,
      "outputs": [
        {
          "output_type": "stream",
          "name": "stdout",
          "text": [
            "tensor([[0.8800, 0.3369, 0.6562, 0.7394, 0.1740],\n",
            "        [0.1848, 0.2925, 0.5647, 0.1768, 0.9427],\n",
            "        [0.3102, 0.8342, 0.3844, 0.1045, 0.7195],\n",
            "        [0.3997, 0.6590, 0.6677, 0.9000, 0.5532]])\n",
            "Datatype of tensor: torch.float32\n",
            "Shape of tensor: torch.Size([4, 5])\n",
            "Device tensor is on: cpu\n"
          ]
        }
      ]
    },
    {
      "cell_type": "markdown",
      "source": [
        "#Tensor Manipulation\n"
      ],
      "metadata": {
        "id": "71FHU1F-rrOU"
      }
    },
    {
      "cell_type": "code",
      "source": [
        "# Create a tensor\n",
        "my_tensor = torch.tensor([1, 2, 3, 4, 5])\n",
        "\n",
        "# Add 10 to the tensor\n",
        "tensor_plus_10 = my_tensor + 10\n",
        "\n",
        "print(f\"Original tensor: {my_tensor}\")\n",
        "print(f\"Tensor after adding 10: {tensor_plus_10}\")"
      ],
      "metadata": {
        "colab": {
          "base_uri": "https://localhost:8080/"
        },
        "id": "ti0TpqKmsThQ",
        "outputId": "ca31f695-d599-499a-c0f4-fb5375ac707c"
      },
      "execution_count": null,
      "outputs": [
        {
          "output_type": "stream",
          "name": "stdout",
          "text": [
            "Original tensor: tensor([1, 2, 3, 4, 5])\n",
            "Tensor after adding 10: tensor([11, 12, 13, 14, 15])\n"
          ]
        }
      ]
    },
    {
      "cell_type": "code",
      "source": [
        "# Multiply the tensor by 10\n",
        "tensor_times_10 = my_tensor * 10\n",
        "\n",
        "print(f\"Original tensor: {my_tensor}\")\n",
        "print(f\"Tensor after multiplying by 10: {tensor_times_10}\")"
      ],
      "metadata": {
        "colab": {
          "base_uri": "https://localhost:8080/"
        },
        "id": "xizID38nsfdk",
        "outputId": "fa76ac2d-d6cb-46ff-bd55-722957e54753"
      },
      "execution_count": null,
      "outputs": [
        {
          "output_type": "stream",
          "name": "stdout",
          "text": [
            "Original tensor: tensor([1, 2, 3, 4, 5])\n",
            "Tensor after multiplying by 10: tensor([10, 20, 30, 40, 50])\n"
          ]
        }
      ]
    },
    {
      "cell_type": "code",
      "source": [
        "# Subtract 10 from the tensor\n",
        "tensor_minus_10 = my_tensor - 10\n",
        "\n",
        "print(f\"Original tensor: {my_tensor}\")\n",
        "print(f\"Tensor after subtracting 10: {tensor_minus_10}\")"
      ],
      "metadata": {
        "colab": {
          "base_uri": "https://localhost:8080/"
        },
        "id": "bgKnSzH6so8C",
        "outputId": "f9d5ef52-23b7-4e50-bb6d-e5576c8a4183"
      },
      "execution_count": null,
      "outputs": [
        {
          "output_type": "stream",
          "name": "stdout",
          "text": [
            "Original tensor: tensor([1, 2, 3, 4, 5])\n",
            "Tensor after subtracting 10: tensor([-9, -8, -7, -6, -5])\n"
          ]
        }
      ]
    },
    {
      "cell_type": "code",
      "source": [
        "# Create a tensor\n",
        "tensor_a = torch.tensor([1, 2, 3, 4, 5])\n",
        "tensor_b = torch.tensor([6, 7, 8, 9, 10])\n",
        "\n",
        "# Element-wise addition using torch.add()\n",
        "addition_result = torch.add(tensor_a, tensor_b)\n",
        "print(f\"Element-wise addition using torch.add(): {addition_result}\")\n",
        "\n",
        "# Element-wise multiplication using torch.mul()\n",
        "multiplication_result = torch.mul(tensor_a, tensor_b)\n",
        "print(f\"Element-wise multiplication using torch.mul(): {multiplication_result}\")\n",
        "\n",
        "# Element-wise subtraction using torch.sub()\n",
        "subtract_result = torch.sub(tensor_b, tensor_a)\n",
        "print(f\"Element-wise subtraction using torch.sub(): {subtract_result}\")\n",
        "\n",
        "# Element-wise division using torch.div()\n",
        "division_result = torch.div(tensor_b, tensor_a)\n",
        "print(f\"Element-wise division using torch.div(): {division_result}\")"
      ],
      "metadata": {
        "colab": {
          "base_uri": "https://localhost:8080/"
        },
        "id": "4Fdl0Oils6ZA",
        "outputId": "5b28b7b9-f2f9-4e9b-96cd-ca7353b4789e"
      },
      "execution_count": null,
      "outputs": [
        {
          "output_type": "stream",
          "name": "stdout",
          "text": [
            "Element-wise addition using torch.add(): tensor([ 7,  9, 11, 13, 15])\n",
            "Element-wise multiplication using torch.mul(): tensor([ 6, 14, 24, 36, 50])\n",
            "Element-wise subtraction using torch.sub(): tensor([5, 5, 5, 5, 5])\n",
            "Element-wise division using torch.div(): tensor([6.0000, 3.5000, 2.6667, 2.2500, 2.0000])\n"
          ]
        }
      ]
    },
    {
      "cell_type": "code",
      "source": [
        "# Create two tensors for matrix multiplication\n",
        "tensor_matrix_a = torch.tensor([[1, 2],\n",
        "                                 [3, 4]])\n",
        "\n",
        "tensor_matrix_b = torch.tensor([[5, 6],\n",
        "                                 [7, 8]])\n",
        "\n",
        "# Perform matrix multiplication using torch.matmul()\n",
        "matrix_mult_result = torch.matmul(tensor_matrix_a, tensor_matrix_b)\n",
        "print(f\"Matrix A:\\n{tensor_matrix_a}\")\n",
        "print(f\"Matrix B:\\n{tensor_matrix_b}\")\n",
        "print(f\"Result of matrix multiplication:\\n{matrix_mult_result}\")\n",
        "\n",
        "# Alternatively, use the @ operator\n",
        "matrix_mult_result_alt = tensor_matrix_a @ tensor_matrix_b\n",
        "print(f\"\\nResult of matrix multiplication (using @ operator):\\n{matrix_mult_result_alt}\")"
      ],
      "metadata": {
        "colab": {
          "base_uri": "https://localhost:8080/"
        },
        "id": "0-7n0xbctMNI",
        "outputId": "fd3044b4-afbf-4792-b298-91daef2d880b"
      },
      "execution_count": null,
      "outputs": [
        {
          "output_type": "stream",
          "name": "stdout",
          "text": [
            "Matrix A:\n",
            "tensor([[1, 2],\n",
            "        [3, 4]])\n",
            "Matrix B:\n",
            "tensor([[5, 6],\n",
            "        [7, 8]])\n",
            "Result of matrix multiplication:\n",
            "tensor([[19, 22],\n",
            "        [43, 50]])\n",
            "\n",
            "Result of matrix multiplication (using @ operator):\n",
            "tensor([[19, 22],\n",
            "        [43, 50]])\n"
          ]
        }
      ]
    },
    {
      "cell_type": "code",
      "source": [
        "%%time\n",
        "val=0\n",
        "for i in range(len(tensor_a)):\n",
        "  val+=tensor_a[i]*tensor_b[i]\n",
        "print(val)"
      ],
      "metadata": {
        "colab": {
          "base_uri": "https://localhost:8080/"
        },
        "id": "4MW6WYeot-5t",
        "outputId": "59a817ea-787a-46c0-d2de-a34510d2e30f"
      },
      "execution_count": null,
      "outputs": [
        {
          "output_type": "stream",
          "name": "stdout",
          "text": [
            "tensor(130)\n",
            "CPU times: user 0 ns, sys: 833 µs, total: 833 µs\n",
            "Wall time: 714 µs\n"
          ]
        }
      ]
    },
    {
      "cell_type": "code",
      "source": [
        "#Far faster than For loop\n",
        "%%time\n",
        "torch.matmul(tensor_a,tensor_b)\n"
      ],
      "metadata": {
        "colab": {
          "base_uri": "https://localhost:8080/"
        },
        "id": "EmkCXJccueLa",
        "outputId": "28a90c03-b55c-4454-8393-4a9413d8c59b"
      },
      "execution_count": null,
      "outputs": [
        {
          "output_type": "stream",
          "name": "stdout",
          "text": [
            "CPU times: user 125 µs, sys: 67 µs, total: 192 µs\n",
            "Wall time: 180 µs\n"
          ]
        },
        {
          "output_type": "execute_result",
          "data": {
            "text/plain": [
              "tensor(130)"
            ]
          },
          "metadata": {},
          "execution_count": 40
        }
      ]
    },
    {
      "cell_type": "code",
      "source": [
        "#Wont work because of dimenstion errors\n",
        "# torch.matmul(torch.rand(3,2),torch.rand(3,2))\n",
        "torch.matmul(torch.rand(3,2),torch.rand(2,3))\n",
        "#another way\n",
        "torch.rand(2,2)@torch.rand(2,2)"
      ],
      "metadata": {
        "id": "AGZEiOK3vKe6",
        "colab": {
          "base_uri": "https://localhost:8080/"
        },
        "outputId": "236d2177-4669-4652-8fac-1d03308d13d5"
      },
      "execution_count": null,
      "outputs": [
        {
          "output_type": "execute_result",
          "data": {
            "text/plain": [
              "tensor([[0.3750, 0.2900],\n",
              "        [0.6005, 0.5968]])"
            ]
          },
          "metadata": {},
          "execution_count": 41
        }
      ]
    },
    {
      "cell_type": "code",
      "source": [
        "A=torch.tensor([[1,2],\n",
        "               [3,4],\n",
        "               [5,6]])\n",
        "B=torch.tensor([[5,2],\n",
        "               [6,4],\n",
        "               [8,9]])\n",
        "#will hav error\n",
        "#torch.mm(A,B) #mm is same as Matmul\n",
        "torch.mm(A.T,B)"
      ],
      "metadata": {
        "colab": {
          "base_uri": "https://localhost:8080/"
        },
        "id": "l9m0YOYkueSu",
        "outputId": "dd6edb3c-74a0-400b-85f5-8bba694b3a4f"
      },
      "execution_count": null,
      "outputs": [
        {
          "output_type": "execute_result",
          "data": {
            "text/plain": [
              "tensor([[63, 59],\n",
              "        [82, 74]])"
            ]
          },
          "metadata": {},
          "execution_count": 42
        }
      ]
    },
    {
      "cell_type": "markdown",
      "source": [
        "#Finding Min,Max,Mean,sum etc"
      ],
      "metadata": {
        "id": "sKbgDcCxw6Tx"
      }
    },
    {
      "cell_type": "code",
      "source": [
        "X=torch.tensor([4,5,7,6,4,2,6,8,9,5,4,444,4])\n",
        "X"
      ],
      "metadata": {
        "colab": {
          "base_uri": "https://localhost:8080/"
        },
        "id": "oh3GMCsevqb7",
        "outputId": "a40a7047-07df-4bbf-8f65-f6ac181f7500"
      },
      "execution_count": null,
      "outputs": [
        {
          "output_type": "execute_result",
          "data": {
            "text/plain": [
              "tensor([  4,   5,   7,   6,   4,   2,   6,   8,   9,   5,   4, 444,   4])"
            ]
          },
          "metadata": {},
          "execution_count": 43
        }
      ]
    },
    {
      "cell_type": "code",
      "source": [
        "X.min()"
      ],
      "metadata": {
        "colab": {
          "base_uri": "https://localhost:8080/"
        },
        "id": "WP7sCLmfwJYi",
        "outputId": "6747cd47-33d1-4857-982c-5a0968bd2577"
      },
      "execution_count": null,
      "outputs": [
        {
          "output_type": "execute_result",
          "data": {
            "text/plain": [
              "tensor(2)"
            ]
          },
          "metadata": {},
          "execution_count": 44
        }
      ]
    },
    {
      "cell_type": "code",
      "source": [
        "X.max() #torch.max(X)"
      ],
      "metadata": {
        "colab": {
          "base_uri": "https://localhost:8080/"
        },
        "id": "M-CB6wdsxav-",
        "outputId": "09d2f11f-207d-4577-9bc2-c22b6a6977b9"
      },
      "execution_count": null,
      "outputs": [
        {
          "output_type": "execute_result",
          "data": {
            "text/plain": [
              "tensor(444)"
            ]
          },
          "metadata": {},
          "execution_count": 45
        }
      ]
    },
    {
      "cell_type": "code",
      "source": [
        "#mean fucntion reuire tensor of float32\n",
        "X.type(torch.float32).mean()"
      ],
      "metadata": {
        "colab": {
          "base_uri": "https://localhost:8080/"
        },
        "id": "mbZcI0nCxksY",
        "outputId": "8d44361f-a38a-47f4-a5e1-7775516976c5"
      },
      "execution_count": null,
      "outputs": [
        {
          "output_type": "execute_result",
          "data": {
            "text/plain": [
              "tensor(39.0769)"
            ]
          },
          "metadata": {},
          "execution_count": 46
        }
      ]
    },
    {
      "cell_type": "code",
      "source": [
        "X.sum()"
      ],
      "metadata": {
        "colab": {
          "base_uri": "https://localhost:8080/"
        },
        "id": "OpjufhrezKYT",
        "outputId": "7d87a56d-2afc-4d7e-b3bf-9190a24d956b"
      },
      "execution_count": null,
      "outputs": [
        {
          "output_type": "execute_result",
          "data": {
            "text/plain": [
              "tensor(508)"
            ]
          },
          "metadata": {},
          "execution_count": 47
        }
      ]
    },
    {
      "cell_type": "markdown",
      "source": [
        "#Positoinal Min and Max"
      ],
      "metadata": {
        "id": "6R3zUO4zzmgl"
      }
    },
    {
      "cell_type": "code",
      "source": [
        "X.argmin()"
      ],
      "metadata": {
        "colab": {
          "base_uri": "https://localhost:8080/"
        },
        "id": "6Llkd7C_zSiM",
        "outputId": "bd0d3392-e99c-4be0-9b42-5c969d6baeee"
      },
      "execution_count": null,
      "outputs": [
        {
          "output_type": "execute_result",
          "data": {
            "text/plain": [
              "tensor(5)"
            ]
          },
          "metadata": {},
          "execution_count": 48
        }
      ]
    },
    {
      "cell_type": "code",
      "source": [
        "X.argmax()"
      ],
      "metadata": {
        "colab": {
          "base_uri": "https://localhost:8080/"
        },
        "id": "ZXHS0DfGzuSh",
        "outputId": "6da87bf2-d572-4a51-f6c4-f6e54c57d319"
      },
      "execution_count": null,
      "outputs": [
        {
          "output_type": "execute_result",
          "data": {
            "text/plain": [
              "tensor(11)"
            ]
          },
          "metadata": {},
          "execution_count": 49
        }
      ]
    },
    {
      "cell_type": "code",
      "source": [
        "X"
      ],
      "metadata": {
        "colab": {
          "base_uri": "https://localhost:8080/"
        },
        "id": "94kj58VHzxXC",
        "outputId": "baab87eb-ceef-4bdf-da03-9c0a2fe0ae3f"
      },
      "execution_count": null,
      "outputs": [
        {
          "output_type": "execute_result",
          "data": {
            "text/plain": [
              "tensor([  4,   5,   7,   6,   4,   2,   6,   8,   9,   5,   4, 444,   4])"
            ]
          },
          "metadata": {},
          "execution_count": 50
        }
      ]
    },
    {
      "cell_type": "markdown",
      "source": [
        "#Reshapong,Stacking,Squeezing and Unsqueezing Tensors"
      ],
      "metadata": {
        "id": "myOL0_MJ05-h"
      }
    },
    {
      "cell_type": "code",
      "source": [
        "X=torch.arange(1.,11.)\n",
        "\n",
        "X,X.shape"
      ],
      "metadata": {
        "colab": {
          "base_uri": "https://localhost:8080/"
        },
        "id": "30T_6GJn0gho",
        "outputId": "de78655e-83c6-4aaf-c9b3-ef3fe200f911"
      },
      "execution_count": null,
      "outputs": [
        {
          "output_type": "execute_result",
          "data": {
            "text/plain": [
              "(tensor([ 1.,  2.,  3.,  4.,  5.,  6.,  7.,  8.,  9., 10.]), torch.Size([10]))"
            ]
          },
          "metadata": {},
          "execution_count": 51
        }
      ]
    },
    {
      "cell_type": "code",
      "source": [
        "#Add an extra dimension\n",
        "#cause error\n",
        "#X_reshaped=X.reshape(1,7)\n",
        "X_reshaped=X.reshape(2,5)\n",
        "#can also do\n",
        "#X_reshaped=X.reshape(1,10)\n",
        "#X_reshaped=X.reshape(10,1)\n",
        "X_reshaped,X_reshaped.shape"
      ],
      "metadata": {
        "colab": {
          "base_uri": "https://localhost:8080/"
        },
        "id": "f_1Jy1SP1K_v",
        "outputId": "d9012ca3-a829-4b33-c261-73fb16f8a0dd"
      },
      "execution_count": null,
      "outputs": [
        {
          "output_type": "execute_result",
          "data": {
            "text/plain": [
              "(tensor([[ 1.,  2.,  3.,  4.,  5.],\n",
              "         [ 6.,  7.,  8.,  9., 10.]]),\n",
              " torch.Size([2, 5]))"
            ]
          },
          "metadata": {},
          "execution_count": 52
        }
      ]
    },
    {
      "cell_type": "code",
      "source": [
        "Z=X.view(1,10)\n",
        "Z,Z.shape"
      ],
      "metadata": {
        "colab": {
          "base_uri": "https://localhost:8080/"
        },
        "id": "awch28SG1eeU",
        "outputId": "02ef5b0a-5b4e-4944-af1c-ddf74c2d0be4"
      },
      "execution_count": null,
      "outputs": [
        {
          "output_type": "execute_result",
          "data": {
            "text/plain": [
              "(tensor([[ 1.,  2.,  3.,  4.,  5.,  6.,  7.,  8.,  9., 10.]]),\n",
              " torch.Size([1, 10]))"
            ]
          },
          "metadata": {},
          "execution_count": 53
        }
      ]
    },
    {
      "cell_type": "code",
      "source": [
        "#changing Z will change X\n",
        "Z[:,0]=12\n",
        "Z,X"
      ],
      "metadata": {
        "colab": {
          "base_uri": "https://localhost:8080/"
        },
        "id": "JKR0fld42aVE",
        "outputId": "255545ee-7bba-461b-9a8a-c18ebbd5b388"
      },
      "execution_count": null,
      "outputs": [
        {
          "output_type": "execute_result",
          "data": {
            "text/plain": [
              "(tensor([[12.,  2.,  3.,  4.,  5.,  6.,  7.,  8.,  9., 10.]]),\n",
              " tensor([12.,  2.,  3.,  4.,  5.,  6.,  7.,  8.,  9., 10.]))"
            ]
          },
          "metadata": {},
          "execution_count": 54
        }
      ]
    },
    {
      "cell_type": "code",
      "source": [
        "X_stacked=torch.stack([X,X,X,X],dim=1)\n",
        "X_stacked1=torch.stack([X,X,X,X],dim=0)\n",
        "X_stacked,X_stacked1"
      ],
      "metadata": {
        "colab": {
          "base_uri": "https://localhost:8080/"
        },
        "id": "89_TXr752kPj",
        "outputId": "190b74d3-3733-45b4-96c5-2d9d64f0b0b3"
      },
      "execution_count": null,
      "outputs": [
        {
          "output_type": "execute_result",
          "data": {
            "text/plain": [
              "(tensor([[12., 12., 12., 12.],\n",
              "         [ 2.,  2.,  2.,  2.],\n",
              "         [ 3.,  3.,  3.,  3.],\n",
              "         [ 4.,  4.,  4.,  4.],\n",
              "         [ 5.,  5.,  5.,  5.],\n",
              "         [ 6.,  6.,  6.,  6.],\n",
              "         [ 7.,  7.,  7.,  7.],\n",
              "         [ 8.,  8.,  8.,  8.],\n",
              "         [ 9.,  9.,  9.,  9.],\n",
              "         [10., 10., 10., 10.]]),\n",
              " tensor([[12.,  2.,  3.,  4.,  5.,  6.,  7.,  8.,  9., 10.],\n",
              "         [12.,  2.,  3.,  4.,  5.,  6.,  7.,  8.,  9., 10.],\n",
              "         [12.,  2.,  3.,  4.,  5.,  6.,  7.,  8.,  9., 10.],\n",
              "         [12.,  2.,  3.,  4.,  5.,  6.,  7.,  8.,  9., 10.]]))"
            ]
          },
          "metadata": {},
          "execution_count": 55
        }
      ]
    },
    {
      "cell_type": "code",
      "source": [
        "X_squeezed=X_reshaped.squeeze()\n",
        "X_squeezed"
      ],
      "metadata": {
        "colab": {
          "base_uri": "https://localhost:8080/"
        },
        "id": "0HbFEaEM2m86",
        "outputId": "119f1935-33dd-43bf-fc51-081208715fe0"
      },
      "execution_count": null,
      "outputs": [
        {
          "output_type": "execute_result",
          "data": {
            "text/plain": [
              "tensor([[12.,  2.,  3.,  4.,  5.],\n",
              "        [ 6.,  7.,  8.,  9., 10.]])"
            ]
          },
          "metadata": {},
          "execution_count": 56
        }
      ]
    },
    {
      "cell_type": "code",
      "source": [
        "X_unsqueezed=X_squeezed.unsqueeze(dim=0)\n",
        "X_unsqueezed,X_unsqueezed.shape"
      ],
      "metadata": {
        "colab": {
          "base_uri": "https://localhost:8080/"
        },
        "id": "xup7A9sy3UkU",
        "outputId": "d8adbb26-ed2d-451d-ff5e-ccc4ffc17a1e"
      },
      "execution_count": null,
      "outputs": [
        {
          "output_type": "execute_result",
          "data": {
            "text/plain": [
              "(tensor([[[12.,  2.,  3.,  4.,  5.],\n",
              "          [ 6.,  7.,  8.,  9., 10.]]]),\n",
              " torch.Size([1, 2, 5]))"
            ]
          },
          "metadata": {},
          "execution_count": 57
        }
      ]
    },
    {
      "cell_type": "code",
      "source": [
        "X_original=torch.rand(size=(224,224,3)) #height,width,color channel\n",
        "X_permuted=X_original.permute(2, 0, 1) # Permute dimensions to (color_channel, height, width)\n",
        "X_original.shape,X_permuted.shape"
      ],
      "metadata": {
        "colab": {
          "base_uri": "https://localhost:8080/"
        },
        "id": "I_XZoBii7bIW",
        "outputId": "62008e7a-ce29-4418-843b-061707891959"
      },
      "execution_count": null,
      "outputs": [
        {
          "output_type": "execute_result",
          "data": {
            "text/plain": [
              "(torch.Size([224, 224, 3]), torch.Size([3, 224, 224]))"
            ]
          },
          "metadata": {},
          "execution_count": 60
        }
      ]
    },
    {
      "cell_type": "markdown",
      "source": [
        "#Indexing(Selecting data from tensors)"
      ],
      "metadata": {
        "id": "P0uJx2kv-r0v"
      }
    },
    {
      "cell_type": "code",
      "source": [
        "X=torch.arange(1,10).reshape(1,3,3)\n",
        "X"
      ],
      "metadata": {
        "colab": {
          "base_uri": "https://localhost:8080/"
        },
        "id": "kpH87zMR7zZ3",
        "outputId": "0fa867f1-30b8-45b0-ae28-1f889fac2bdd"
      },
      "execution_count": null,
      "outputs": [
        {
          "output_type": "execute_result",
          "data": {
            "text/plain": [
              "tensor([[[1, 2, 3],\n",
              "         [4, 5, 6],\n",
              "         [7, 8, 9]]])"
            ]
          },
          "metadata": {},
          "execution_count": 62
        }
      ]
    },
    {
      "cell_type": "code",
      "source": [
        "X[0]"
      ],
      "metadata": {
        "id": "SAeGl9TK-9XD",
        "outputId": "67df5fe8-9f5e-41dc-f43b-f1e1dcfd0018",
        "colab": {
          "base_uri": "https://localhost:8080/"
        }
      },
      "execution_count": null,
      "outputs": [
        {
          "output_type": "execute_result",
          "data": {
            "text/plain": [
              "tensor([[1, 2, 3],\n",
              "        [4, 5, 6],\n",
              "        [7, 8, 9]])"
            ]
          },
          "metadata": {},
          "execution_count": 64
        }
      ]
    },
    {
      "cell_type": "code",
      "source": [
        "X[0][0]"
      ],
      "metadata": {
        "id": "XexHuZst_IvU",
        "outputId": "02a74c2a-77be-4035-a0dc-49c70b7dcc30",
        "colab": {
          "base_uri": "https://localhost:8080/"
        }
      },
      "execution_count": null,
      "outputs": [
        {
          "output_type": "execute_result",
          "data": {
            "text/plain": [
              "tensor([1, 2, 3])"
            ]
          },
          "metadata": {},
          "execution_count": 65
        }
      ]
    },
    {
      "cell_type": "code",
      "source": [
        "X[0][0][0]"
      ],
      "metadata": {
        "id": "mowmw7Zg_SBo",
        "outputId": "fd341d8d-5f39-4e4a-fdb9-d9656c7432f5",
        "colab": {
          "base_uri": "https://localhost:8080/"
        }
      },
      "execution_count": null,
      "outputs": [
        {
          "output_type": "execute_result",
          "data": {
            "text/plain": [
              "tensor(1)"
            ]
          },
          "metadata": {},
          "execution_count": 66
        }
      ]
    },
    {
      "cell_type": "code",
      "source": [
        "X[0][2][2]"
      ],
      "metadata": {
        "id": "66F8rN8X_bfp",
        "outputId": "985f5dc5-621b-4961-8be7-f23e563ca28f",
        "colab": {
          "base_uri": "https://localhost:8080/"
        }
      },
      "execution_count": null,
      "outputs": [
        {
          "output_type": "execute_result",
          "data": {
            "text/plain": [
              "tensor(9)"
            ]
          },
          "metadata": {},
          "execution_count": 68
        }
      ]
    },
    {
      "cell_type": "markdown",
      "source": [
        "#Pytorch Tensors and Numpy"
      ],
      "metadata": {
        "id": "Jg_beEJwDEUT"
      }
    },
    {
      "cell_type": "code",
      "source": [
        "import numpy as np\n",
        "array=np.arange(1.0,8.0)\n",
        "tensor=torch.from_numpy(array) #when converting from numpy to torch the dtype is float64\n",
        "array,tensor"
      ],
      "metadata": {
        "id": "qo0yn47G_tMN",
        "colab": {
          "base_uri": "https://localhost:8080/"
        },
        "outputId": "f1db53f3-1827-4bae-c3dd-3f76a1d735bb"
      },
      "execution_count": 71,
      "outputs": [
        {
          "output_type": "execute_result",
          "data": {
            "text/plain": [
              "(array([1., 2., 3., 4., 5., 6., 7.]),\n",
              " tensor([1., 2., 3., 4., 5., 6., 7.], dtype=torch.float64))"
            ]
          },
          "metadata": {},
          "execution_count": 71
        }
      ]
    },
    {
      "cell_type": "code",
      "source": [
        "array=array+1\n",
        "array,tensor #changing array wont change tensor"
      ],
      "metadata": {
        "colab": {
          "base_uri": "https://localhost:8080/"
        },
        "id": "7iLq3s-5FUWk",
        "outputId": "f3dbb065-c8a7-40bc-9c60-389c0753965c"
      },
      "execution_count": 74,
      "outputs": [
        {
          "output_type": "execute_result",
          "data": {
            "text/plain": [
              "(array([3., 4., 5., 6., 7., 8., 9.]), tensor([1., 1., 1., 1., 1., 1., 1.]))"
            ]
          },
          "metadata": {},
          "execution_count": 74
        }
      ]
    },
    {
      "cell_type": "code",
      "source": [
        "#Tensor to numpy\n",
        "tensor=torch.ones(7)\n",
        "numpy_tensor=tensor.numpy()\n",
        "tensor,numpy_tensor"
      ],
      "metadata": {
        "colab": {
          "base_uri": "https://localhost:8080/"
        },
        "id": "Auc5SJKyGO31",
        "outputId": "c9a11b37-d2a8-42de-e386-f4ba9ef281d4"
      },
      "execution_count": 73,
      "outputs": [
        {
          "output_type": "execute_result",
          "data": {
            "text/plain": [
              "(tensor([1., 1., 1., 1., 1., 1., 1.]),\n",
              " array([1., 1., 1., 1., 1., 1., 1.], dtype=float32))"
            ]
          },
          "metadata": {},
          "execution_count": 73
        }
      ]
    },
    {
      "cell_type": "code",
      "source": [
        "tensor=tensor+1\n",
        "numpy_tensor,tensor"
      ],
      "metadata": {
        "colab": {
          "base_uri": "https://localhost:8080/"
        },
        "id": "Uw4mwTftGd0e",
        "outputId": "a3f298d0-305b-4942-acfb-3763a67b34fa"
      },
      "execution_count": 75,
      "outputs": [
        {
          "output_type": "execute_result",
          "data": {
            "text/plain": [
              "(array([1., 1., 1., 1., 1., 1., 1.], dtype=float32),\n",
              " tensor([2., 2., 2., 2., 2., 2., 2.]))"
            ]
          },
          "metadata": {},
          "execution_count": 75
        }
      ]
    },
    {
      "cell_type": "markdown",
      "source": [
        "#Reproducibility(trying to make random out of random)\n",
        "To reduce randomness in NAEURAL Network and pytorch comes the concept of random seed."
      ],
      "metadata": {
        "id": "B1FKvG6NG-D9"
      }
    },
    {
      "cell_type": "code",
      "source": [
        "A=torch.rand(3,4)\n",
        "B=torch.rand(3,4)\n",
        "print(f\"Tensor A : {A}\")\n",
        "print(f\"Tensor B : {B}\")"
      ],
      "metadata": {
        "colab": {
          "base_uri": "https://localhost:8080/"
        },
        "id": "0OuULOTXGtWC",
        "outputId": "23be6c4f-f78a-4c27-d685-24d6b68207a3"
      },
      "execution_count": 82,
      "outputs": [
        {
          "output_type": "stream",
          "name": "stdout",
          "text": [
            "Tensor A : tensor([[0.7442, 0.0633, 0.3574, 0.5196],\n",
            "        [0.6840, 0.6470, 0.0295, 0.0542],\n",
            "        [0.3391, 0.8176, 0.8691, 0.8975]])\n",
            "Tensor B : tensor([[0.0612, 0.6027, 0.3515, 0.5223],\n",
            "        [0.8007, 0.4837, 0.0166, 0.8068],\n",
            "        [0.1507, 0.4389, 0.3784, 0.7034]])\n"
          ]
        }
      ]
    },
    {
      "cell_type": "code",
      "source": [
        "A==B"
      ],
      "metadata": {
        "colab": {
          "base_uri": "https://localhost:8080/"
        },
        "id": "IIdB3wGBQNaI",
        "outputId": "f568ccbc-f4c4-480f-8a35-dd97f8b3bfce"
      },
      "execution_count": 83,
      "outputs": [
        {
          "output_type": "execute_result",
          "data": {
            "text/plain": [
              "tensor([[False, False, False, False],\n",
              "        [False, False, False, False],\n",
              "        [False, False, False, False]])"
            ]
          },
          "metadata": {},
          "execution_count": 83
        }
      ]
    },
    {
      "cell_type": "code",
      "source": [
        "random_seed=11\n",
        "torch.manual_seed(random_seed)\n",
        "random_tensor_C=torch.rand(3,4)\n",
        "#work for a single Block of code\n",
        "torch.manual_seed(random_seed)\n",
        "random_tensor_D=torch.rand(3,4)\n",
        "random_tensor_C,random_tensor_D,random_tensor_C==random_tensor_D"
      ],
      "metadata": {
        "colab": {
          "base_uri": "https://localhost:8080/"
        },
        "id": "sSTDLIB_HkoV",
        "outputId": "de0a1291-0b1e-4a77-816d-ec4d05dd212b"
      },
      "execution_count": 86,
      "outputs": [
        {
          "output_type": "execute_result",
          "data": {
            "text/plain": [
              "(tensor([[0.1490, 0.4866, 0.9857, 0.1684],\n",
              "         [0.5839, 0.6936, 0.5831, 0.1284],\n",
              "         [0.5721, 0.9248, 0.2693, 0.7825]]),\n",
              " tensor([[0.1490, 0.4866, 0.9857, 0.1684],\n",
              "         [0.5839, 0.6936, 0.5831, 0.1284],\n",
              "         [0.5721, 0.9248, 0.2693, 0.7825]]),\n",
              " tensor([[True, True, True, True],\n",
              "         [True, True, True, True],\n",
              "         [True, True, True, True]]))"
            ]
          },
          "metadata": {},
          "execution_count": 86
        }
      ]
    },
    {
      "cell_type": "code",
      "source": [],
      "metadata": {
        "id": "0JxJkjjjQmMz"
      },
      "execution_count": null,
      "outputs": []
    }
  ]
}