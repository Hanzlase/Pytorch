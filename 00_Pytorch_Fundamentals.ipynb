{
  "nbformat": 4,
  "nbformat_minor": 0,
  "metadata": {
    "colab": {
      "provenance": [],
      "authorship_tag": "ABX9TyPz7V06HeJXD8GNB/hVk0QH",
      "include_colab_link": true
    },
    "kernelspec": {
      "name": "python3",
      "display_name": "Python 3"
    },
    "language_info": {
      "name": "python"
    }
  },
  "cells": [
    {
      "cell_type": "markdown",
      "metadata": {
        "id": "view-in-github",
        "colab_type": "text"
      },
      "source": [
        "<a href=\"https://colab.research.google.com/github/Hanzlase/Pytorch/blob/main/00_Pytorch_Fundamentals.ipynb\" target=\"_parent\"><img src=\"https://colab.research.google.com/assets/colab-badge.svg\" alt=\"Open In Colab\"/></a>"
      ]
    },
    {
      "cell_type": "code",
      "execution_count": 2,
      "metadata": {
        "id": "5cWC-9afOJU8",
        "colab": {
          "base_uri": "https://localhost:8080/"
        },
        "outputId": "cdba3ae7-07f1-459d-ad16-f80fc4f97f8a"
      },
      "outputs": [
        {
          "output_type": "stream",
          "name": "stdout",
          "text": [
            "Learning Pytorch\n"
          ]
        }
      ],
      "source": [
        "print(\"Learning Pytorch\")"
      ]
    },
    {
      "cell_type": "code",
      "source": [
        "import torch\n",
        "import pandas as pd\n",
        "import numpy as np\n",
        "import matplotlib.pyplot as plt\n",
        "print(torch.__version__)"
      ],
      "metadata": {
        "colab": {
          "base_uri": "https://localhost:8080/"
        },
        "id": "LHMWOKO4TJo0",
        "outputId": "bd00f44d-d058-4a38-a4a3-8a8323465ec4"
      },
      "execution_count": 3,
      "outputs": [
        {
          "output_type": "stream",
          "name": "stdout",
          "text": [
            "2.8.0+cu126\n"
          ]
        }
      ]
    },
    {
      "cell_type": "markdown",
      "source": [
        "#Introduction to Tensors\n",
        "\n",
        "#Creating Tensors"
      ],
      "metadata": {
        "id": "6dTHgG7OcThX"
      }
    },
    {
      "cell_type": "code",
      "source": [
        "#Scalar\n",
        "scalar=torch.tensor(7)\n",
        "scalar"
      ],
      "metadata": {
        "colab": {
          "base_uri": "https://localhost:8080/"
        },
        "id": "aaSC62AMcY_y",
        "outputId": "8d0549b8-dbda-4aac-91d6-a78bd06f837c"
      },
      "execution_count": 4,
      "outputs": [
        {
          "output_type": "execute_result",
          "data": {
            "text/plain": [
              "tensor(7)"
            ]
          },
          "metadata": {},
          "execution_count": 4
        }
      ]
    },
    {
      "cell_type": "code",
      "source": [
        "#Dimentions\n",
        "scalar.ndim\n"
      ],
      "metadata": {
        "colab": {
          "base_uri": "https://localhost:8080/"
        },
        "id": "iC2uecy-dYll",
        "outputId": "ca8d5c06-f5d2-4388-f908-38ea065850e3"
      },
      "execution_count": 5,
      "outputs": [
        {
          "output_type": "execute_result",
          "data": {
            "text/plain": [
              "0"
            ]
          },
          "metadata": {},
          "execution_count": 5
        }
      ]
    },
    {
      "cell_type": "code",
      "source": [
        "scalar.item()"
      ],
      "metadata": {
        "colab": {
          "base_uri": "https://localhost:8080/"
        },
        "id": "rtEfXvNAd6Yc",
        "outputId": "b68261d3-1f3a-4a84-ff07-5530f799fb0b"
      },
      "execution_count": 6,
      "outputs": [
        {
          "output_type": "execute_result",
          "data": {
            "text/plain": [
              "7"
            ]
          },
          "metadata": {},
          "execution_count": 6
        }
      ]
    },
    {
      "cell_type": "code",
      "source": [
        "#Vector\n",
        "vector=torch.tensor([7,7])\n",
        "vector"
      ],
      "metadata": {
        "colab": {
          "base_uri": "https://localhost:8080/"
        },
        "id": "4YP3Et-OeBB-",
        "outputId": "26adac28-25df-41d9-ee6c-6f47b73d1624"
      },
      "execution_count": 7,
      "outputs": [
        {
          "output_type": "execute_result",
          "data": {
            "text/plain": [
              "tensor([7, 7])"
            ]
          },
          "metadata": {},
          "execution_count": 7
        }
      ]
    },
    {
      "cell_type": "code",
      "source": [
        "vector.ndim"
      ],
      "metadata": {
        "colab": {
          "base_uri": "https://localhost:8080/"
        },
        "id": "SFpdu0AOeGpb",
        "outputId": "99cc0dbb-8da4-4829-8a6a-0f749c079292"
      },
      "execution_count": 8,
      "outputs": [
        {
          "output_type": "execute_result",
          "data": {
            "text/plain": [
              "1"
            ]
          },
          "metadata": {},
          "execution_count": 8
        }
      ]
    },
    {
      "cell_type": "code",
      "source": [
        "vector.shape"
      ],
      "metadata": {
        "colab": {
          "base_uri": "https://localhost:8080/"
        },
        "id": "HacHf6eOeS0J",
        "outputId": "b9c4f7cc-22e9-4918-bbf1-c9dd4b4da8a2"
      },
      "execution_count": 9,
      "outputs": [
        {
          "output_type": "execute_result",
          "data": {
            "text/plain": [
              "torch.Size([2])"
            ]
          },
          "metadata": {},
          "execution_count": 9
        }
      ]
    },
    {
      "cell_type": "code",
      "source": [
        "#MATRIX\n",
        "MATRIX=torch.tensor([[7,8],\n",
        "                     [9,10]])\n",
        "MATRIX"
      ],
      "metadata": {
        "colab": {
          "base_uri": "https://localhost:8080/"
        },
        "id": "hl973PypeYQy",
        "outputId": "5659a00c-114f-4acb-e1bc-ce7457c8d7a3"
      },
      "execution_count": 10,
      "outputs": [
        {
          "output_type": "execute_result",
          "data": {
            "text/plain": [
              "tensor([[ 7,  8],\n",
              "        [ 9, 10]])"
            ]
          },
          "metadata": {},
          "execution_count": 10
        }
      ]
    },
    {
      "cell_type": "code",
      "source": [
        "MATRIX.ndim"
      ],
      "metadata": {
        "colab": {
          "base_uri": "https://localhost:8080/"
        },
        "id": "hfx0ItvoeuL7",
        "outputId": "63b34e48-cba8-418f-d684-88f6fc23fa96"
      },
      "execution_count": 11,
      "outputs": [
        {
          "output_type": "execute_result",
          "data": {
            "text/plain": [
              "2"
            ]
          },
          "metadata": {},
          "execution_count": 11
        }
      ]
    },
    {
      "cell_type": "code",
      "source": [
        "MATRIX[0]"
      ],
      "metadata": {
        "colab": {
          "base_uri": "https://localhost:8080/"
        },
        "id": "PZ8Hj-91ezu1",
        "outputId": "aa06cfd0-e48b-4e78-e6c7-e9be4e165aef"
      },
      "execution_count": 12,
      "outputs": [
        {
          "output_type": "execute_result",
          "data": {
            "text/plain": [
              "tensor([7, 8])"
            ]
          },
          "metadata": {},
          "execution_count": 12
        }
      ]
    },
    {
      "cell_type": "code",
      "source": [
        "MATRIX.shape"
      ],
      "metadata": {
        "colab": {
          "base_uri": "https://localhost:8080/"
        },
        "id": "AAY2JABbe36m",
        "outputId": "789bb9d5-9579-440c-befd-966f72eee3a9"
      },
      "execution_count": 13,
      "outputs": [
        {
          "output_type": "execute_result",
          "data": {
            "text/plain": [
              "torch.Size([2, 2])"
            ]
          },
          "metadata": {},
          "execution_count": 13
        }
      ]
    },
    {
      "cell_type": "code",
      "source": [
        "#TENSOR\n",
        "TENSOR=torch.tensor([[[1,2,3],\n",
        "                      [3,5,6],\n",
        "                      [8,5,2]]])\n",
        "TENSOR"
      ],
      "metadata": {
        "colab": {
          "base_uri": "https://localhost:8080/"
        },
        "id": "d50ZifZfe68F",
        "outputId": "00d2f459-91fb-4f46-d629-3e1c35d88d52"
      },
      "execution_count": 14,
      "outputs": [
        {
          "output_type": "execute_result",
          "data": {
            "text/plain": [
              "tensor([[[1, 2, 3],\n",
              "         [3, 5, 6],\n",
              "         [8, 5, 2]]])"
            ]
          },
          "metadata": {},
          "execution_count": 14
        }
      ]
    },
    {
      "cell_type": "code",
      "source": [
        "TENSOR.ndim"
      ],
      "metadata": {
        "colab": {
          "base_uri": "https://localhost:8080/"
        },
        "id": "0GMiAGebfeGw",
        "outputId": "bf100f2a-ec5b-45ff-a697-669e835bc90b"
      },
      "execution_count": 15,
      "outputs": [
        {
          "output_type": "execute_result",
          "data": {
            "text/plain": [
              "3"
            ]
          },
          "metadata": {},
          "execution_count": 15
        }
      ]
    },
    {
      "cell_type": "code",
      "source": [
        "TENSOR.shape"
      ],
      "metadata": {
        "colab": {
          "base_uri": "https://localhost:8080/"
        },
        "id": "vEN-DsK7fhAT",
        "outputId": "23fb6369-b07b-4c26-a851-080390865734"
      },
      "execution_count": 16,
      "outputs": [
        {
          "output_type": "execute_result",
          "data": {
            "text/plain": [
              "torch.Size([1, 3, 3])"
            ]
          },
          "metadata": {},
          "execution_count": 16
        }
      ]
    },
    {
      "cell_type": "code",
      "source": [
        "TENSOR[0]"
      ],
      "metadata": {
        "colab": {
          "base_uri": "https://localhost:8080/"
        },
        "id": "JP9WOL97fpIu",
        "outputId": "aa27bf88-d5ec-48d5-ce54-25714a4537b1"
      },
      "execution_count": 17,
      "outputs": [
        {
          "output_type": "execute_result",
          "data": {
            "text/plain": [
              "tensor([[1, 2, 3],\n",
              "        [3, 5, 6],\n",
              "        [8, 5, 2]])"
            ]
          },
          "metadata": {},
          "execution_count": 17
        }
      ]
    },
    {
      "cell_type": "markdown",
      "source": [
        "The output torch.Size([1, 3, 3]) for the tensor [[[1, 2, 3], [3, 5, 6], [8, 5, 2]]] might seem a little counter-intuitive at first.\n",
        "\n",
        "Here's how to break it down:\n",
        "\n",
        "The first dimension (size 1) represents the outermost set of square brackets [[...]]. There's only one of these main groups in your tensor.\n",
        "The second dimension (size 3) represents the number of lists within that outermost group. In your tensor, you have three inner lists: [1, 2, 3], [3, 5, 6], and [8, 5, 2].\n",
        "The third dimension (size 3) represents the number of elements within each of those inner lists. Each of your inner lists has three numbers.\n",
        "So, torch.Size([1, 3, 3]) means you have 1 block of data, and within that block, you have a 3x3 structure. This is a 3-dimensional tensor."
      ],
      "metadata": {
        "id": "vyHc_9G5gtAW"
      }
    },
    {
      "cell_type": "markdown",
      "source": [
        "###Random Tensors\n",
        "why Random tesnors?\n",
        "We use random tensors in PyTorch mostly to give our machine learning models a random starting point. Think of it like shuffling a deck of cards before a game it makes sure things aren't predictable from the start and helps the model learn better. They're also handy for making fake data when we just want to test things out.\n",
        "\n",
        "\n",
        "\"Start with Random numbers -> look at data -> update random numbers -> look at data -> update random numbers.\""
      ],
      "metadata": {
        "id": "gFPS2_jChdCR"
      }
    },
    {
      "cell_type": "code",
      "source": [
        "#Create a Random tensor of shape(3,4)\n",
        "random_tensor=torch.rand(3,4)\n",
        "random_tensor"
      ],
      "metadata": {
        "colab": {
          "base_uri": "https://localhost:8080/"
        },
        "id": "10aRV-6YhhKZ",
        "outputId": "e1c84c6e-9f02-4558-9245-88ad69a2a49a"
      },
      "execution_count": 18,
      "outputs": [
        {
          "output_type": "execute_result",
          "data": {
            "text/plain": [
              "tensor([[0.7508, 0.3836, 0.8704, 0.0308],\n",
              "        [0.8800, 0.9349, 0.2340, 0.2843],\n",
              "        [0.3442, 0.8490, 0.0704, 0.4173]])"
            ]
          },
          "metadata": {},
          "execution_count": 18
        }
      ]
    },
    {
      "cell_type": "code",
      "source": [
        "random_tensor.ndim\n"
      ],
      "metadata": {
        "colab": {
          "base_uri": "https://localhost:8080/"
        },
        "id": "C2mmuqQBi1HQ",
        "outputId": "ed728b75-7eaa-4e91-dc6a-a6ec24d1a675"
      },
      "execution_count": 19,
      "outputs": [
        {
          "output_type": "execute_result",
          "data": {
            "text/plain": [
              "2"
            ]
          },
          "metadata": {},
          "execution_count": 19
        }
      ]
    },
    {
      "cell_type": "code",
      "source": [
        "random_tensor.shape"
      ],
      "metadata": {
        "colab": {
          "base_uri": "https://localhost:8080/"
        },
        "id": "7oIXOIrHi2J9",
        "outputId": "c1896483-daa1-4f87-8b4e-9e818f0c4dfa"
      },
      "execution_count": 20,
      "outputs": [
        {
          "output_type": "execute_result",
          "data": {
            "text/plain": [
              "torch.Size([3, 4])"
            ]
          },
          "metadata": {},
          "execution_count": 20
        }
      ]
    },
    {
      "cell_type": "code",
      "source": [],
      "metadata": {
        "id": "QHJr4AhljIp3"
      },
      "execution_count": 20,
      "outputs": []
    },
    {
      "cell_type": "code",
      "source": [
        "#Create a Random tensor with similar shape to an image tensor\n",
        "rand_img_size_tensor=torch.rand(size=(224,224,3))\n",
        "rand_img_size_tensor.shape,rand_img_size_tensor.ndim\n"
      ],
      "metadata": {
        "colab": {
          "base_uri": "https://localhost:8080/"
        },
        "id": "ZvsgfkdYjMjF",
        "outputId": "37e26036-b024-4bd5-b367-61a098934338"
      },
      "execution_count": 21,
      "outputs": [
        {
          "output_type": "execute_result",
          "data": {
            "text/plain": [
              "(torch.Size([224, 224, 3]), 3)"
            ]
          },
          "metadata": {},
          "execution_count": 21
        }
      ]
    },
    {
      "cell_type": "markdown",
      "source": [
        "#Zeros and Ones"
      ],
      "metadata": {
        "id": "XqF8pfJWkawk"
      }
    },
    {
      "cell_type": "code",
      "source": [
        "#Create a tensor of all zeros\n",
        "zeros=torch.zeros(3,4)\n",
        "zeros"
      ],
      "metadata": {
        "colab": {
          "base_uri": "https://localhost:8080/"
        },
        "id": "ggg3gsP1kcWj",
        "outputId": "010130b2-883f-43fc-e815-31acadd21241"
      },
      "execution_count": 22,
      "outputs": [
        {
          "output_type": "execute_result",
          "data": {
            "text/plain": [
              "tensor([[0., 0., 0., 0.],\n",
              "        [0., 0., 0., 0.],\n",
              "        [0., 0., 0., 0.]])"
            ]
          },
          "metadata": {},
          "execution_count": 22
        }
      ]
    },
    {
      "cell_type": "code",
      "source": [
        "#Create a tensor of all ones\n",
        "ones=torch.ones(3,4)\n",
        "ones"
      ],
      "metadata": {
        "colab": {
          "base_uri": "https://localhost:8080/"
        },
        "id": "KvaDeUo6kpA2",
        "outputId": "abddfaad-34ce-4beb-95bf-abdb6f938cbe"
      },
      "execution_count": 23,
      "outputs": [
        {
          "output_type": "execute_result",
          "data": {
            "text/plain": [
              "tensor([[1., 1., 1., 1.],\n",
              "        [1., 1., 1., 1.],\n",
              "        [1., 1., 1., 1.]])"
            ]
          },
          "metadata": {},
          "execution_count": 23
        }
      ]
    },
    {
      "cell_type": "code",
      "source": [
        "ones.dtype"
      ],
      "metadata": {
        "colab": {
          "base_uri": "https://localhost:8080/"
        },
        "id": "DxEHLIqKkxA2",
        "outputId": "a3ae6afd-9ff7-428a-c192-f7a275798bcb"
      },
      "execution_count": 24,
      "outputs": [
        {
          "output_type": "execute_result",
          "data": {
            "text/plain": [
              "torch.float32"
            ]
          },
          "metadata": {},
          "execution_count": 24
        }
      ]
    },
    {
      "cell_type": "code",
      "source": [
        "random_tensor.dtype"
      ],
      "metadata": {
        "colab": {
          "base_uri": "https://localhost:8080/"
        },
        "id": "Hinb062LkyzS",
        "outputId": "1de33518-464a-4b85-b5ec-bb495b838b30"
      },
      "execution_count": 25,
      "outputs": [
        {
          "output_type": "execute_result",
          "data": {
            "text/plain": [
              "torch.float32"
            ]
          },
          "metadata": {},
          "execution_count": 25
        }
      ]
    },
    {
      "cell_type": "markdown",
      "source": [
        "#Creating a range of tensors and tensors-like\n",
        "\n"
      ],
      "metadata": {
        "id": "XlXp4BfBlGwD"
      }
    },
    {
      "cell_type": "code",
      "source": [
        "#Use torch.range()\n",
        "one_to_ten=torch.arange(start=0,end=11,step=2) # OR one_to_ten=torch.arange(0,11)\n",
        "one_to_ten"
      ],
      "metadata": {
        "colab": {
          "base_uri": "https://localhost:8080/"
        },
        "id": "lKDPVOnVk3XI",
        "outputId": "2eba08ac-aaf3-4f07-9fff-66b724ec387b"
      },
      "execution_count": 26,
      "outputs": [
        {
          "output_type": "execute_result",
          "data": {
            "text/plain": [
              "tensor([ 0,  2,  4,  6,  8, 10])"
            ]
          },
          "metadata": {},
          "execution_count": 26
        }
      ]
    },
    {
      "cell_type": "code",
      "source": [
        "#creating tensors like\n",
        "ten_zeros=torch.zeros_like(input =one_to_ten)\n",
        "ten_zeros"
      ],
      "metadata": {
        "colab": {
          "base_uri": "https://localhost:8080/"
        },
        "id": "Wm1JyNDWlHh7",
        "outputId": "c31bcea4-b0a9-48c4-be20-9027d2b51e7f"
      },
      "execution_count": 27,
      "outputs": [
        {
          "output_type": "execute_result",
          "data": {
            "text/plain": [
              "tensor([0, 0, 0, 0, 0, 0])"
            ]
          },
          "metadata": {},
          "execution_count": 27
        }
      ]
    },
    {
      "cell_type": "markdown",
      "source": [
        "#Tensor Datatype"
      ],
      "metadata": {
        "id": "C0x1s1jDmro8"
      }
    },
    {
      "cell_type": "code",
      "source": [
        "float_32_tensor=torch.tensor([3.0,6.0,9.0],\n",
        "                             dtype=None,#automatically sets it to float32\n",
        "                             device=None,#will be created on CPU\n",
        "                             requires_grad=False) #Don't bother keeping track of the steps needed to calculate gradients for this specific tensor.\n",
        "float_32_tensor"
      ],
      "metadata": {
        "colab": {
          "base_uri": "https://localhost:8080/"
        },
        "id": "09xhMYf-mvSS",
        "outputId": "2289cfc1-3099-4de7-ec3e-8be09542022d"
      },
      "execution_count": 28,
      "outputs": [
        {
          "output_type": "execute_result",
          "data": {
            "text/plain": [
              "tensor([3., 6., 9.])"
            ]
          },
          "metadata": {},
          "execution_count": 28
        }
      ]
    },
    {
      "cell_type": "code",
      "source": [
        "#convert to 16\n",
        "float_16_tensor=float_32_tensor.type(torch.float16)"
      ],
      "metadata": {
        "id": "0S1IOedrmNzn"
      },
      "execution_count": 29,
      "outputs": []
    },
    {
      "cell_type": "code",
      "source": [
        "float_16_tensor * float_32_tensor"
      ],
      "metadata": {
        "colab": {
          "base_uri": "https://localhost:8080/"
        },
        "id": "SNBNBFvCpXVw",
        "outputId": "416149e8-1591-4c17-9793-c307df09df4c"
      },
      "execution_count": 30,
      "outputs": [
        {
          "output_type": "execute_result",
          "data": {
            "text/plain": [
              "tensor([ 9., 36., 81.])"
            ]
          },
          "metadata": {},
          "execution_count": 30
        }
      ]
    },
    {
      "cell_type": "code",
      "source": [
        "int_32_tensor=torch.tensor([3,6,9],dtype=torch.int32)\n",
        "int_32_tensor"
      ],
      "metadata": {
        "colab": {
          "base_uri": "https://localhost:8080/"
        },
        "id": "BaRAhZmEp9l9",
        "outputId": "b9ff2e6b-1593-443b-9ad7-88f29b3d7000"
      },
      "execution_count": 31,
      "outputs": [
        {
          "output_type": "execute_result",
          "data": {
            "text/plain": [
              "tensor([3, 6, 9], dtype=torch.int32)"
            ]
          },
          "metadata": {},
          "execution_count": 31
        }
      ]
    },
    {
      "cell_type": "code",
      "source": [
        "#we can multiply tensors with different datatypes\n",
        "int_32_tensor * float_32_tensor"
      ],
      "metadata": {
        "colab": {
          "base_uri": "https://localhost:8080/"
        },
        "id": "qtZRHARTqScM",
        "outputId": "b26b3265-7b01-4326-f656-9445c1254b17"
      },
      "execution_count": 32,
      "outputs": [
        {
          "output_type": "execute_result",
          "data": {
            "text/plain": [
              "tensor([ 9., 36., 81.])"
            ]
          },
          "metadata": {},
          "execution_count": 32
        }
      ]
    },
    {
      "cell_type": "code",
      "source": [
        "#create a tensor\n",
        "some_tensor=torch.rand(4,5)\n",
        "some_tensor"
      ],
      "metadata": {
        "colab": {
          "base_uri": "https://localhost:8080/"
        },
        "id": "vONoeHoSrCHI",
        "outputId": "de20d5d0-02d5-4419-c814-a31b39bc5dcc"
      },
      "execution_count": 33,
      "outputs": [
        {
          "output_type": "execute_result",
          "data": {
            "text/plain": [
              "tensor([[0.6178, 0.2286, 0.2349, 0.6658, 0.6405],\n",
              "        [0.9825, 0.8300, 0.5350, 0.2077, 0.6986],\n",
              "        [0.2462, 0.7614, 0.4300, 0.2493, 0.4810],\n",
              "        [0.2913, 0.6199, 0.6941, 0.6038, 0.5492]])"
            ]
          },
          "metadata": {},
          "execution_count": 33
        }
      ]
    },
    {
      "cell_type": "code",
      "source": [
        "print(some_tensor)\n",
        "print(f\"Datatype of tensor: {some_tensor.dtype}\")\n",
        "print(f\"Shape of tensor: {some_tensor.shape}\")\n",
        "print(f\"Device tensor is on: {some_tensor.device}\")"
      ],
      "metadata": {
        "colab": {
          "base_uri": "https://localhost:8080/"
        },
        "id": "I4toPIOzrLsP",
        "outputId": "250e1d4a-3690-4226-b490-562f45b07a16"
      },
      "execution_count": 34,
      "outputs": [
        {
          "output_type": "stream",
          "name": "stdout",
          "text": [
            "tensor([[0.6178, 0.2286, 0.2349, 0.6658, 0.6405],\n",
            "        [0.9825, 0.8300, 0.5350, 0.2077, 0.6986],\n",
            "        [0.2462, 0.7614, 0.4300, 0.2493, 0.4810],\n",
            "        [0.2913, 0.6199, 0.6941, 0.6038, 0.5492]])\n",
            "Datatype of tensor: torch.float32\n",
            "Shape of tensor: torch.Size([4, 5])\n",
            "Device tensor is on: cpu\n"
          ]
        }
      ]
    },
    {
      "cell_type": "markdown",
      "source": [
        "#Tensor Manipulation\n"
      ],
      "metadata": {
        "id": "71FHU1F-rrOU"
      }
    },
    {
      "cell_type": "code",
      "source": [
        "# Create a tensor\n",
        "my_tensor = torch.tensor([1, 2, 3, 4, 5])\n",
        "\n",
        "# Add 10 to the tensor\n",
        "tensor_plus_10 = my_tensor + 10\n",
        "\n",
        "print(f\"Original tensor: {my_tensor}\")\n",
        "print(f\"Tensor after adding 10: {tensor_plus_10}\")"
      ],
      "metadata": {
        "colab": {
          "base_uri": "https://localhost:8080/"
        },
        "id": "ti0TpqKmsThQ",
        "outputId": "13063680-d54d-4ee2-a00d-07e2a081fdb3"
      },
      "execution_count": 35,
      "outputs": [
        {
          "output_type": "stream",
          "name": "stdout",
          "text": [
            "Original tensor: tensor([1, 2, 3, 4, 5])\n",
            "Tensor after adding 10: tensor([11, 12, 13, 14, 15])\n"
          ]
        }
      ]
    },
    {
      "cell_type": "code",
      "source": [
        "# Multiply the tensor by 10\n",
        "tensor_times_10 = my_tensor * 10\n",
        "\n",
        "print(f\"Original tensor: {my_tensor}\")\n",
        "print(f\"Tensor after multiplying by 10: {tensor_times_10}\")"
      ],
      "metadata": {
        "colab": {
          "base_uri": "https://localhost:8080/"
        },
        "id": "xizID38nsfdk",
        "outputId": "9e39e15e-cd5e-4509-d6e0-fc259bed20e1"
      },
      "execution_count": 36,
      "outputs": [
        {
          "output_type": "stream",
          "name": "stdout",
          "text": [
            "Original tensor: tensor([1, 2, 3, 4, 5])\n",
            "Tensor after multiplying by 10: tensor([10, 20, 30, 40, 50])\n"
          ]
        }
      ]
    },
    {
      "cell_type": "code",
      "source": [
        "# Subtract 10 from the tensor\n",
        "tensor_minus_10 = my_tensor - 10\n",
        "\n",
        "print(f\"Original tensor: {my_tensor}\")\n",
        "print(f\"Tensor after subtracting 10: {tensor_minus_10}\")"
      ],
      "metadata": {
        "colab": {
          "base_uri": "https://localhost:8080/"
        },
        "id": "bgKnSzH6so8C",
        "outputId": "f662fafa-fcde-4d89-e018-1a03d2ddf026"
      },
      "execution_count": 37,
      "outputs": [
        {
          "output_type": "stream",
          "name": "stdout",
          "text": [
            "Original tensor: tensor([1, 2, 3, 4, 5])\n",
            "Tensor after subtracting 10: tensor([-9, -8, -7, -6, -5])\n"
          ]
        }
      ]
    },
    {
      "cell_type": "code",
      "source": [
        "# Create a tensor\n",
        "tensor_a = torch.tensor([1, 2, 3, 4, 5])\n",
        "tensor_b = torch.tensor([6, 7, 8, 9, 10])\n",
        "\n",
        "# Element-wise addition using torch.add()\n",
        "addition_result = torch.add(tensor_a, tensor_b)\n",
        "print(f\"Element-wise addition using torch.add(): {addition_result}\")\n",
        "\n",
        "# Element-wise multiplication using torch.mul()\n",
        "multiplication_result = torch.mul(tensor_a, tensor_b)\n",
        "print(f\"Element-wise multiplication using torch.mul(): {multiplication_result}\")\n",
        "\n",
        "# Element-wise subtraction using torch.sub()\n",
        "subtract_result = torch.sub(tensor_b, tensor_a)\n",
        "print(f\"Element-wise subtraction using torch.sub(): {subtract_result}\")\n",
        "\n",
        "# Element-wise division using torch.div()\n",
        "division_result = torch.div(tensor_b, tensor_a)\n",
        "print(f\"Element-wise division using torch.div(): {division_result}\")"
      ],
      "metadata": {
        "colab": {
          "base_uri": "https://localhost:8080/"
        },
        "id": "4Fdl0Oils6ZA",
        "outputId": "7a38fb4e-65df-4fa5-8c98-24dab695f385"
      },
      "execution_count": 38,
      "outputs": [
        {
          "output_type": "stream",
          "name": "stdout",
          "text": [
            "Element-wise addition using torch.add(): tensor([ 7,  9, 11, 13, 15])\n",
            "Element-wise multiplication using torch.mul(): tensor([ 6, 14, 24, 36, 50])\n",
            "Element-wise subtraction using torch.sub(): tensor([5, 5, 5, 5, 5])\n",
            "Element-wise division using torch.div(): tensor([6.0000, 3.5000, 2.6667, 2.2500, 2.0000])\n"
          ]
        }
      ]
    },
    {
      "cell_type": "code",
      "source": [
        "# Create two tensors for matrix multiplication\n",
        "tensor_matrix_a = torch.tensor([[1, 2],\n",
        "                                 [3, 4]])\n",
        "\n",
        "tensor_matrix_b = torch.tensor([[5, 6],\n",
        "                                 [7, 8]])\n",
        "\n",
        "# Perform matrix multiplication using torch.matmul()\n",
        "matrix_mult_result = torch.matmul(tensor_matrix_a, tensor_matrix_b)\n",
        "print(f\"Matrix A:\\n{tensor_matrix_a}\")\n",
        "print(f\"Matrix B:\\n{tensor_matrix_b}\")\n",
        "print(f\"Result of matrix multiplication:\\n{matrix_mult_result}\")\n",
        "\n",
        "# Alternatively, use the @ operator\n",
        "matrix_mult_result_alt = tensor_matrix_a @ tensor_matrix_b\n",
        "print(f\"\\nResult of matrix multiplication (using @ operator):\\n{matrix_mult_result_alt}\")"
      ],
      "metadata": {
        "colab": {
          "base_uri": "https://localhost:8080/"
        },
        "id": "0-7n0xbctMNI",
        "outputId": "15e47fc2-7ec2-4390-bde0-380d9d3262cf"
      },
      "execution_count": 39,
      "outputs": [
        {
          "output_type": "stream",
          "name": "stdout",
          "text": [
            "Matrix A:\n",
            "tensor([[1, 2],\n",
            "        [3, 4]])\n",
            "Matrix B:\n",
            "tensor([[5, 6],\n",
            "        [7, 8]])\n",
            "Result of matrix multiplication:\n",
            "tensor([[19, 22],\n",
            "        [43, 50]])\n",
            "\n",
            "Result of matrix multiplication (using @ operator):\n",
            "tensor([[19, 22],\n",
            "        [43, 50]])\n"
          ]
        }
      ]
    },
    {
      "cell_type": "code",
      "source": [
        "%%time\n",
        "val=0\n",
        "for i in range(len(tensor_a)):\n",
        "  val+=tensor_a[i]*tensor_b[i]\n",
        "print(val)"
      ],
      "metadata": {
        "colab": {
          "base_uri": "https://localhost:8080/"
        },
        "id": "4MW6WYeot-5t",
        "outputId": "a8c293a7-5d4c-44e6-86d9-41745bc7b732"
      },
      "execution_count": 40,
      "outputs": [
        {
          "output_type": "stream",
          "name": "stdout",
          "text": [
            "tensor(130)\n",
            "CPU times: user 833 µs, sys: 139 µs, total: 972 µs\n",
            "Wall time: 2.43 ms\n"
          ]
        }
      ]
    },
    {
      "cell_type": "code",
      "source": [
        "#Far faster than For loop\n",
        "%%time\n",
        "torch.matmul(tensor_a,tensor_b)\n"
      ],
      "metadata": {
        "colab": {
          "base_uri": "https://localhost:8080/"
        },
        "id": "EmkCXJccueLa",
        "outputId": "f48e24e0-64ea-4189-8417-bc49acf481f7"
      },
      "execution_count": 41,
      "outputs": [
        {
          "output_type": "stream",
          "name": "stdout",
          "text": [
            "CPU times: user 0 ns, sys: 431 µs, total: 431 µs\n",
            "Wall time: 9.42 ms\n"
          ]
        },
        {
          "output_type": "execute_result",
          "data": {
            "text/plain": [
              "tensor(130)"
            ]
          },
          "metadata": {},
          "execution_count": 41
        }
      ]
    },
    {
      "cell_type": "code",
      "source": [
        "#Wont work because of dimenstion errors\n",
        "# torch.matmul(torch.rand(3,2),torch.rand(3,2))\n",
        "torch.matmul(torch.rand(3,2),torch.rand(2,3))\n",
        "#another way\n",
        "torch.rand(2,2)@torch.rand(2,2)"
      ],
      "metadata": {
        "id": "AGZEiOK3vKe6",
        "colab": {
          "base_uri": "https://localhost:8080/"
        },
        "outputId": "6b96d8d3-e92d-4fcc-d845-b3ba09c859e7"
      },
      "execution_count": 46,
      "outputs": [
        {
          "output_type": "execute_result",
          "data": {
            "text/plain": [
              "tensor([[0.3272, 0.7155],\n",
              "        [0.2161, 0.7055]])"
            ]
          },
          "metadata": {},
          "execution_count": 46
        }
      ]
    },
    {
      "cell_type": "code",
      "source": [
        "A=torch.tensor([[1,2],\n",
        "               [3,4],\n",
        "               [5,6]])\n",
        "B=torch.tensor([[5,2],\n",
        "               [6,4],\n",
        "               [8,9]])\n",
        "#will hav error\n",
        "#torch.mm(A,B) #mm is same as Matmul\n",
        "torch.mm(A.T,B)"
      ],
      "metadata": {
        "colab": {
          "base_uri": "https://localhost:8080/"
        },
        "id": "l9m0YOYkueSu",
        "outputId": "a4db1e6d-6ad4-44dd-feb0-ebe5aaad9f73"
      },
      "execution_count": 63,
      "outputs": [
        {
          "output_type": "execute_result",
          "data": {
            "text/plain": [
              "tensor([[63, 59],\n",
              "        [82, 74]])"
            ]
          },
          "metadata": {},
          "execution_count": 63
        }
      ]
    },
    {
      "cell_type": "markdown",
      "source": [
        "#Finding Min,Max,Mean,sum etc"
      ],
      "metadata": {
        "id": "sKbgDcCxw6Tx"
      }
    },
    {
      "cell_type": "code",
      "source": [
        "X=torch.tensor([4,5,7,6,4,2,6,8,9,5,4,444,4])\n",
        "X"
      ],
      "metadata": {
        "colab": {
          "base_uri": "https://localhost:8080/"
        },
        "id": "oh3GMCsevqb7",
        "outputId": "882876e9-1f57-4d56-81a2-15fa69e7f3fc"
      },
      "execution_count": 77,
      "outputs": [
        {
          "output_type": "execute_result",
          "data": {
            "text/plain": [
              "tensor([  4,   5,   7,   6,   4,   2,   6,   8,   9,   5,   4, 444,   4])"
            ]
          },
          "metadata": {},
          "execution_count": 77
        }
      ]
    },
    {
      "cell_type": "code",
      "source": [
        "X.min()"
      ],
      "metadata": {
        "colab": {
          "base_uri": "https://localhost:8080/"
        },
        "id": "WP7sCLmfwJYi",
        "outputId": "c44fe614-8eb5-49a1-e6ec-806eb5590cad"
      },
      "execution_count": 78,
      "outputs": [
        {
          "output_type": "execute_result",
          "data": {
            "text/plain": [
              "tensor(2)"
            ]
          },
          "metadata": {},
          "execution_count": 78
        }
      ]
    },
    {
      "cell_type": "code",
      "source": [
        "X.max() #torch.max(X)"
      ],
      "metadata": {
        "colab": {
          "base_uri": "https://localhost:8080/"
        },
        "id": "M-CB6wdsxav-",
        "outputId": "09202a77-46a8-490c-e60f-7c99bd70a953"
      },
      "execution_count": 79,
      "outputs": [
        {
          "output_type": "execute_result",
          "data": {
            "text/plain": [
              "tensor(444)"
            ]
          },
          "metadata": {},
          "execution_count": 79
        }
      ]
    },
    {
      "cell_type": "code",
      "source": [
        "#mean fucntion reuire tensor of float32\n",
        "X.type(torch.float32).mean()"
      ],
      "metadata": {
        "colab": {
          "base_uri": "https://localhost:8080/"
        },
        "id": "mbZcI0nCxksY",
        "outputId": "be942469-0f93-4a0f-865b-e3b3a75080be"
      },
      "execution_count": 84,
      "outputs": [
        {
          "output_type": "execute_result",
          "data": {
            "text/plain": [
              "tensor(39.0769)"
            ]
          },
          "metadata": {},
          "execution_count": 84
        }
      ]
    },
    {
      "cell_type": "code",
      "source": [
        "X.sum()"
      ],
      "metadata": {
        "colab": {
          "base_uri": "https://localhost:8080/"
        },
        "id": "OpjufhrezKYT",
        "outputId": "c8ef51e4-344a-4116-f444-b5dcf42edd1c"
      },
      "execution_count": 85,
      "outputs": [
        {
          "output_type": "execute_result",
          "data": {
            "text/plain": [
              "tensor(508)"
            ]
          },
          "metadata": {},
          "execution_count": 85
        }
      ]
    },
    {
      "cell_type": "markdown",
      "source": [
        "#Positoinal Min and Max"
      ],
      "metadata": {
        "id": "6R3zUO4zzmgl"
      }
    },
    {
      "cell_type": "code",
      "source": [
        "X.argmin()"
      ],
      "metadata": {
        "colab": {
          "base_uri": "https://localhost:8080/"
        },
        "id": "6Llkd7C_zSiM",
        "outputId": "ae3cdf65-573f-4c54-cf31-eac223001f33"
      },
      "execution_count": 87,
      "outputs": [
        {
          "output_type": "execute_result",
          "data": {
            "text/plain": [
              "tensor(5)"
            ]
          },
          "metadata": {},
          "execution_count": 87
        }
      ]
    },
    {
      "cell_type": "code",
      "source": [
        "X.argmax()"
      ],
      "metadata": {
        "colab": {
          "base_uri": "https://localhost:8080/"
        },
        "id": "ZXHS0DfGzuSh",
        "outputId": "b5caea1f-b52f-4a26-ef0d-ac94cbaa4836"
      },
      "execution_count": 88,
      "outputs": [
        {
          "output_type": "execute_result",
          "data": {
            "text/plain": [
              "tensor(11)"
            ]
          },
          "metadata": {},
          "execution_count": 88
        }
      ]
    },
    {
      "cell_type": "code",
      "source": [
        "X"
      ],
      "metadata": {
        "colab": {
          "base_uri": "https://localhost:8080/"
        },
        "id": "94kj58VHzxXC",
        "outputId": "734ff1dc-ec8a-46cf-8eda-6ace339515a8"
      },
      "execution_count": 89,
      "outputs": [
        {
          "output_type": "execute_result",
          "data": {
            "text/plain": [
              "tensor([  4,   5,   7,   6,   4,   2,   6,   8,   9,   5,   4, 444,   4])"
            ]
          },
          "metadata": {},
          "execution_count": 89
        }
      ]
    },
    {
      "cell_type": "code",
      "source": [],
      "metadata": {
        "id": "30T_6GJn0gho"
      },
      "execution_count": null,
      "outputs": []
    }
  ]
}